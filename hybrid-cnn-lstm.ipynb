{
 "cells": [
  {
   "cell_type": "code",
   "execution_count": 115,
   "metadata": {
    "execution": {
     "iopub.execute_input": "2024-11-14T13:01:29.041344Z",
     "iopub.status.busy": "2024-11-14T13:01:29.040915Z",
     "iopub.status.idle": "2024-11-14T13:01:29.050627Z",
     "shell.execute_reply": "2024-11-14T13:01:29.049720Z",
     "shell.execute_reply.started": "2024-11-14T13:01:29.041303Z"
    },
    "id": "9NUClAOVSI_r",
    "trusted": true
   },
   "outputs": [],
   "source": [
    "import pandas as pd\n",
    "import numpy as np\n",
    "import random\n",
    "import torch\n",
    "import torch.nn as nn\n",
    "import torch.optim as optim\n",
    "from torch.utils.data import DataLoader, TensorDataset\n",
    "from sklearn.model_selection import train_test_split\n",
    "from sklearn.utils import resample\n",
    "import matplotlib.pyplot as plt\n",
    "from sklearn.metrics import confusion_matrix, ConfusionMatrixDisplay\n",
    "from imblearn.over_sampling import RandomOverSampler, SMOTE\n",
    "from imblearn.under_sampling import RandomUnderSampler\n",
    "from sklearn.metrics import classification_report\n",
    "import kagglehub"
   ]
  },
  {
   "cell_type": "markdown",
   "metadata": {
    "id": "oHUKSw7T6zFJ"
   },
   "source": [
    "Arrythmia Dataset\n",
    "- Number of samples: 109446\n",
    "- Number of categories: 5\n",
    "- Classes: ['N': 0, 'S': 1, 'V': 2, 'F': 3, 'Q': 4]\n",
    "- Sampling Frequency: 125Hz\n",
    "- Data Source: Physionet's MIT-BIH Arrythmia Dataset"
   ]
  },
  {
   "cell_type": "code",
   "execution_count": 116,
   "metadata": {
    "execution": {
     "iopub.execute_input": "2024-11-14T13:01:29.052639Z",
     "iopub.status.busy": "2024-11-14T13:01:29.052254Z",
     "iopub.status.idle": "2024-11-14T13:01:29.552907Z",
     "shell.execute_reply": "2024-11-14T13:01:29.552131Z",
     "shell.execute_reply.started": "2024-11-14T13:01:29.052607Z"
    },
    "trusted": true
   },
   "outputs": [],
   "source": [
    "# Download latest version\n",
    "path = kagglehub.dataset_download(\"shayanfazeli/heartbeat\")"
   ]
  },
  {
   "cell_type": "code",
   "execution_count": 117,
   "metadata": {
    "execution": {
     "iopub.execute_input": "2024-11-14T13:01:29.554397Z",
     "iopub.status.busy": "2024-11-14T13:01:29.554091Z",
     "iopub.status.idle": "2024-11-14T13:01:29.559067Z",
     "shell.execute_reply": "2024-11-14T13:01:29.558186Z",
     "shell.execute_reply.started": "2024-11-14T13:01:29.554364Z"
    },
    "id": "DMag-Fw9S0yi",
    "outputId": "6f64c6f3-092e-4f47-f156-ae7820a7a3e5",
    "trusted": true
   },
   "outputs": [
    {
     "name": "stdout",
     "output_type": "stream",
     "text": [
      "cuda\n"
     ]
    }
   ],
   "source": [
    "device = 'cuda' if torch.cuda.is_available() else 'cpu'\n",
    "print(device)"
   ]
  },
  {
   "cell_type": "code",
   "execution_count": 118,
   "metadata": {
    "execution": {
     "iopub.execute_input": "2024-11-14T13:01:29.561361Z",
     "iopub.status.busy": "2024-11-14T13:01:29.561054Z",
     "iopub.status.idle": "2024-11-14T13:01:29.574509Z",
     "shell.execute_reply": "2024-11-14T13:01:29.573687Z",
     "shell.execute_reply.started": "2024-11-14T13:01:29.561325Z"
    },
    "id": "1v28kwFNhw0m",
    "trusted": true
   },
   "outputs": [],
   "source": [
    "# Set seeds\n",
    "seed_value = 0\n",
    "torch.manual_seed(seed_value)\n",
    "random.seed(seed_value)\n",
    "np.random.seed(seed_value)\n",
    "\n",
    "if torch.cuda.is_available():\n",
    "    torch.cuda.manual_seed(seed_value)\n",
    "    torch.cuda.manual_seed_all(seed_value)  # if using multi-GPU\n",
    "    torch.backends.cudnn.deterministic = True\n",
    "    torch.backends.cudnn.benchmark = False"
   ]
  },
  {
   "cell_type": "markdown",
   "metadata": {
    "id": "oUYOrxfm61Qo"
   },
   "source": [
    "## Data exploration"
   ]
  },
  {
   "cell_type": "code",
   "execution_count": 119,
   "metadata": {
    "execution": {
     "iopub.execute_input": "2024-11-14T13:01:29.575832Z",
     "iopub.status.busy": "2024-11-14T13:01:29.575530Z",
     "iopub.status.idle": "2024-11-14T13:01:35.412953Z",
     "shell.execute_reply": "2024-11-14T13:01:35.411942Z",
     "shell.execute_reply.started": "2024-11-14T13:01:29.575791Z"
    },
    "id": "uoZM-2zY6xXm",
    "trusted": true
   },
   "outputs": [],
   "source": [
    "train_df = pd.read_csv(path + '/mitbih_train.csv')\n",
    "test_df = pd.read_csv(path + '/mitbih_test.csv')"
   ]
  },
  {
   "cell_type": "code",
   "execution_count": 120,
   "metadata": {
    "execution": {
     "iopub.execute_input": "2024-11-14T13:01:35.414574Z",
     "iopub.status.busy": "2024-11-14T13:01:35.414277Z",
     "iopub.status.idle": "2024-11-14T13:01:35.419623Z",
     "shell.execute_reply": "2024-11-14T13:01:35.418721Z",
     "shell.execute_reply.started": "2024-11-14T13:01:35.414543Z"
    },
    "id": "Fkg86Jdz65F5",
    "outputId": "4cd8bab4-af7a-4696-e8ea-0db673c1c2a3",
    "trusted": true
   },
   "outputs": [
    {
     "name": "stdout",
     "output_type": "stream",
     "text": [
      "Shape of train data: (87553, 188)\n",
      "Shape of test data: (21891, 188)\n"
     ]
    }
   ],
   "source": [
    "print(f\"Shape of train data: {train_df.shape}\")\n",
    "print(f\"Shape of test data: {test_df.shape}\")"
   ]
  },
  {
   "cell_type": "code",
   "execution_count": 121,
   "metadata": {
    "execution": {
     "iopub.execute_input": "2024-11-14T13:01:35.421084Z",
     "iopub.status.busy": "2024-11-14T13:01:35.420741Z",
     "iopub.status.idle": "2024-11-14T13:01:35.430225Z",
     "shell.execute_reply": "2024-11-14T13:01:35.429367Z",
     "shell.execute_reply.started": "2024-11-14T13:01:35.421051Z"
    },
    "id": "ytXzDoFHrTy4",
    "trusted": true
   },
   "outputs": [],
   "source": [
    "# If your dataframes don't have column names, assign them\n",
    "# This creates columns named '0', '1', '2', ...\n",
    "train_df.columns = [str(i) for i in range(train_df.shape[1])]\n",
    "test_df.columns = [str(i) for i in range(test_df.shape[1])]"
   ]
  },
  {
   "cell_type": "code",
   "execution_count": 122,
   "metadata": {
    "execution": {
     "iopub.execute_input": "2024-11-14T13:01:35.431553Z",
     "iopub.status.busy": "2024-11-14T13:01:35.431271Z",
     "iopub.status.idle": "2024-11-14T13:01:35.468306Z",
     "shell.execute_reply": "2024-11-14T13:01:35.467446Z",
     "shell.execute_reply.started": "2024-11-14T13:01:35.431522Z"
    },
    "id": "-kHpBnEU66nP",
    "outputId": "1babbf67-f459-462d-aeed-6c2ed624f448",
    "trusted": true
   },
   "outputs": [
    {
     "name": "stdout",
     "output_type": "stream",
     "text": [
      "NaN values in train data: 0\n",
      "NaN values in test data: 0\n"
     ]
    }
   ],
   "source": [
    "print(f\"NaN values in train data: {train_df.isna().sum().sum()}\")\n",
    "print(f\"NaN values in test data: {test_df.isna().sum().sum()}\")"
   ]
  },
  {
   "cell_type": "code",
   "execution_count": 123,
   "metadata": {
    "execution": {
     "iopub.execute_input": "2024-11-14T13:01:35.469465Z",
     "iopub.status.busy": "2024-11-14T13:01:35.469215Z",
     "iopub.status.idle": "2024-11-14T13:01:35.476163Z",
     "shell.execute_reply": "2024-11-14T13:01:35.475218Z",
     "shell.execute_reply.started": "2024-11-14T13:01:35.469437Z"
    },
    "id": "XfXGFGa267f8",
    "outputId": "79a72090-84e6-4889-901e-b3d257131d8e",
    "trusted": true
   },
   "outputs": [
    {
     "name": "stdout",
     "output_type": "stream",
     "text": [
      "[0. 1. 2. 3. 4.]\n",
      "[0. 1. 2. 3. 4.]\n"
     ]
    }
   ],
   "source": [
    "# Last column stores the labels\n",
    "print(train_df.iloc[:, -1].unique())\n",
    "print(test_df.iloc[:, -1].unique())"
   ]
  },
  {
   "cell_type": "code",
   "execution_count": 124,
   "metadata": {
    "execution": {
     "iopub.execute_input": "2024-11-14T13:01:35.481854Z",
     "iopub.status.busy": "2024-11-14T13:01:35.481257Z",
     "iopub.status.idle": "2024-11-14T13:01:35.491523Z",
     "shell.execute_reply": "2024-11-14T13:01:35.490644Z",
     "shell.execute_reply.started": "2024-11-14T13:01:35.481822Z"
    },
    "id": "t2AMf2NH68y7",
    "outputId": "d23a4a11-09f1-4f88-cd3e-1a6e0889c98c",
    "trusted": true
   },
   "outputs": [
    {
     "data": {
      "text/plain": [
       "187\n",
       "0.0    72470\n",
       "4.0     6431\n",
       "2.0     5788\n",
       "1.0     2223\n",
       "3.0      641\n",
       "Name: count, dtype: int64"
      ]
     },
     "execution_count": 124,
     "metadata": {},
     "output_type": "execute_result"
    }
   ],
   "source": [
    "train_df.iloc[:, -1].value_counts()"
   ]
  },
  {
   "cell_type": "code",
   "execution_count": 125,
   "metadata": {
    "execution": {
     "iopub.execute_input": "2024-11-14T13:01:35.492816Z",
     "iopub.status.busy": "2024-11-14T13:01:35.492485Z",
     "iopub.status.idle": "2024-11-14T13:01:35.505467Z",
     "shell.execute_reply": "2024-11-14T13:01:35.504583Z",
     "shell.execute_reply.started": "2024-11-14T13:01:35.492771Z"
    },
    "id": "ZXCEKoAe69Xi",
    "outputId": "1533bc2f-5104-4961-9e30-a6a9025da3e7",
    "trusted": true
   },
   "outputs": [
    {
     "data": {
      "text/plain": [
       "187\n",
       "0.0    18117\n",
       "4.0     1608\n",
       "2.0     1448\n",
       "1.0      556\n",
       "3.0      162\n",
       "Name: count, dtype: int64"
      ]
     },
     "execution_count": 125,
     "metadata": {},
     "output_type": "execute_result"
    }
   ],
   "source": [
    "test_df.iloc[:, -1].value_counts()"
   ]
  },
  {
   "cell_type": "markdown",
   "metadata": {
    "id": "2De2QdEBfz4d"
   },
   "source": [
    "From the counts of the classes, we can observe that the dataset is imbalanced, as class = 0 makes up a large proportion of the training (82.77%) and test data (82.76%). However, we will go ahead with training and evaluating for now and observe the results."
   ]
  },
  {
   "cell_type": "markdown",
   "metadata": {
    "id": "1hK1WquL6_eW"
   },
   "source": [
    "## Generating Training Data"
   ]
  },
  {
   "cell_type": "code",
   "execution_count": 126,
   "metadata": {
    "execution": {
     "iopub.execute_input": "2024-11-14T13:01:35.506894Z",
     "iopub.status.busy": "2024-11-14T13:01:35.506586Z",
     "iopub.status.idle": "2024-11-14T13:01:35.621770Z",
     "shell.execute_reply": "2024-11-14T13:01:35.620609Z",
     "shell.execute_reply.started": "2024-11-14T13:01:35.506864Z"
    },
    "id": "CaIeRuFq78OE",
    "outputId": "a34935d9-2da9-429b-eef5-240a320c44fe",
    "trusted": true
   },
   "outputs": [
    {
     "name": "stdout",
     "output_type": "stream",
     "text": [
      "(70042, 188)\n",
      "(17511, 188)\n"
     ]
    }
   ],
   "source": [
    "df_train, df_val = train_test_split(train_df, test_size=0.2, random_state=0)\n",
    "print(df_train.shape)\n",
    "print(df_val.shape)"
   ]
  },
  {
   "cell_type": "code",
   "execution_count": 127,
   "metadata": {
    "execution": {
     "iopub.execute_input": "2024-11-14T13:01:35.624104Z",
     "iopub.status.busy": "2024-11-14T13:01:35.623207Z",
     "iopub.status.idle": "2024-11-14T13:01:35.685360Z",
     "shell.execute_reply": "2024-11-14T13:01:35.684394Z",
     "shell.execute_reply.started": "2024-11-14T13:01:35.624069Z"
    },
    "id": "eX9FFhNI8N5L",
    "trusted": true
   },
   "outputs": [],
   "source": [
    "x_train = df_train.iloc[:, :-1]\n",
    "y_train = df_train.iloc[:, -1]\n",
    "\n",
    "x_val = df_val.iloc[:, :-1]\n",
    "y_val = df_val.iloc[:, -1]\n",
    "\n",
    "x_test = test_df.iloc[:, :-1]\n",
    "y_test = test_df.iloc[:, -1]\n",
    "\n",
    "x_train = torch.tensor(x_train.values, dtype=torch.float32)\n",
    "y_train = torch.tensor(y_train, dtype=torch.long)\n",
    "\n",
    "x_val = torch.tensor(x_val.values, dtype=torch.float32)\n",
    "y_val = torch.tensor(y_val.values, dtype=torch.long)\n",
    "\n",
    "x_test = torch.tensor(x_test.values, dtype=torch.float32)\n",
    "y_test = torch.tensor(y_test, dtype=torch.long)"
   ]
  },
  {
   "cell_type": "markdown",
   "metadata": {
    "id": "7SDIkVX07Ptl"
   },
   "source": [
    "## Hybrid CNN-RNN Model"
   ]
  },
  {
   "cell_type": "code",
   "execution_count": 128,
   "metadata": {
    "execution": {
     "iopub.execute_input": "2024-11-14T13:01:35.686867Z",
     "iopub.status.busy": "2024-11-14T13:01:35.686540Z",
     "iopub.status.idle": "2024-11-14T13:01:35.696434Z",
     "shell.execute_reply": "2024-11-14T13:01:35.695238Z",
     "shell.execute_reply.started": "2024-11-14T13:01:35.686834Z"
    },
    "id": "R6s6ReER7HkT",
    "trusted": true
   },
   "outputs": [],
   "source": [
    "class CNN_RNN_Hybrid(nn.Module):\n",
    "  def __init__(self, input_dim, cnn_output_dim, hidden_dim, num_classes, num_layers=1, bidirectional=False):\n",
    "    super(CNN_RNN_Hybrid, self).__init__()\n",
    "\n",
    "    self.cnn = nn.Sequential(\n",
    "      nn.Conv1d(in_channels=1, out_channels=16, kernel_size=3, padding=1),\n",
    "      nn.ReLU(),\n",
    "      nn.MaxPool1d(kernel_size=2),\n",
    "      nn.Conv1d(in_channels=16, out_channels=32, kernel_size=3, padding=1),\n",
    "      nn.ReLU(),\n",
    "      nn.MaxPool1d(kernel_size=2),\n",
    "      nn.Conv1d(in_channels=32, out_channels=cnn_output_dim, kernel_size=3, padding=1),\n",
    "      nn.ReLU()\n",
    "    )\n",
    "\n",
    "    self.rnn = nn.LSTM(input_size=cnn_output_dim, hidden_size=hidden_dim, num_layers=num_layers, batch_first=True, bidirectional=bidirectional)\n",
    "\n",
    "    if bidirectional:\n",
    "        hidden_dim *= 2\n",
    "        \n",
    "    self.fc = nn.Linear(hidden_dim, num_classes)\n",
    "\n",
    "  def forward(self, x):\n",
    "    x = x.unsqueeze(1)\n",
    "    cnn_output = self.cnn(x)\n",
    "    cnn_output = cnn_output.permute(0, 2, 1)\n",
    "\n",
    "    rnn_output, _ = self.rnn(cnn_output)\n",
    "\n",
    "    final_output = rnn_output[:, -1, :]\n",
    "\n",
    "    output = self.fc(final_output)\n",
    "\n",
    "    return output"
   ]
  },
  {
   "cell_type": "code",
   "execution_count": 129,
   "metadata": {
    "execution": {
     "iopub.execute_input": "2024-11-14T13:01:35.697972Z",
     "iopub.status.busy": "2024-11-14T13:01:35.697632Z",
     "iopub.status.idle": "2024-11-14T13:01:35.710932Z",
     "shell.execute_reply": "2024-11-14T13:01:35.709905Z",
     "shell.execute_reply.started": "2024-11-14T13:01:35.697940Z"
    },
    "id": "vnaE8DyC7Tdf",
    "trusted": true
   },
   "outputs": [],
   "source": [
    "def train_loop(train_dataloader, model, loss_fn, optimizer):\n",
    "  size = len(train_dataloader.dataset)\n",
    "  num_batches = len(train_dataloader)\n",
    "  train_loss, train_correct = 0, 0\n",
    "\n",
    "  for batch, (X, y) in enumerate(train_dataloader):\n",
    "    # Move inputs and labels to the same device as the model (GPU or CPU)\n",
    "    X = X.to(device)\n",
    "    y = y.to(device)\n",
    "\n",
    "    # Compute prediction and loss\n",
    "    outputs = model(X)\n",
    "    loss = loss_fn(outputs, y)\n",
    "\n",
    "    # Backpropagation\n",
    "    optimizer.zero_grad()\n",
    "    loss.backward()\n",
    "    optimizer.step()\n",
    "\n",
    "    train_loss += loss.item()\n",
    "    _, predicted = torch.max(outputs.data, 1)\n",
    "    train_correct += (predicted == y).sum().item()\n",
    "\n",
    "  train_loss /= num_batches\n",
    "  train_correct /= size\n",
    "\n",
    "  return train_loss, train_correct\n",
    "\n",
    "def test_loop(test_dataloader, model, loss_fn):\n",
    "  size = len(test_dataloader.dataset)\n",
    "  num_batches = len(test_dataloader)\n",
    "  test_loss, test_correct = 0, 0\n",
    "\n",
    "  with torch.no_grad():\n",
    "    for X, y in test_dataloader:\n",
    "      # Move inputs and labels to the same device as the model (GPU or CPU)\n",
    "      X = X.to(device)\n",
    "      y = y.to(device)\n",
    "\n",
    "      outputs = model(X)\n",
    "      test_loss += loss_fn(outputs, y).item()\n",
    "\n",
    "      _, predicted = torch.max(outputs.data, 1)\n",
    "      test_correct += (predicted == y).sum().item()\n",
    "\n",
    "  test_loss /= num_batches\n",
    "  test_correct /= size\n",
    "\n",
    "  return test_loss, test_correct"
   ]
  },
  {
   "cell_type": "code",
   "execution_count": 130,
   "metadata": {
    "execution": {
     "iopub.execute_input": "2024-11-14T13:01:35.714275Z",
     "iopub.status.busy": "2024-11-14T13:01:35.713399Z",
     "iopub.status.idle": "2024-11-14T13:01:35.725983Z",
     "shell.execute_reply": "2024-11-14T13:01:35.725062Z",
     "shell.execute_reply.started": "2024-11-14T13:01:35.714233Z"
    },
    "id": "F67p_Kil7bbV",
    "trusted": true
   },
   "outputs": [],
   "source": [
    "class EarlyStopper:\n",
    "  def __init__(self, patience=3, min_delta=0):\n",
    "    self.patience = patience\n",
    "    self.min_delta = min_delta\n",
    "    self.counter = 0\n",
    "    self.min_validation_loss = np.inf\n",
    "\n",
    "  def early_stop(self, validation_loss):\n",
    "    if validation_loss < self.min_validation_loss:\n",
    "      self.min_validation_loss = validation_loss\n",
    "      self.counter = 0\n",
    "    elif validation_loss > (self.min_validation_loss + self.min_delta):\n",
    "      self.counter += 1\n",
    "      if self.counter >= self.patience:\n",
    "        return True\n",
    "    return False"
   ]
  },
  {
   "cell_type": "markdown",
   "metadata": {
    "id": "R8Sjh7tyhzWx"
   },
   "source": [
    "## Training & Evaluation of Model"
   ]
  },
  {
   "cell_type": "code",
   "execution_count": 131,
   "metadata": {
    "execution": {
     "iopub.execute_input": "2024-11-14T13:01:35.727418Z",
     "iopub.status.busy": "2024-11-14T13:01:35.727071Z",
     "iopub.status.idle": "2024-11-14T13:01:35.736014Z",
     "shell.execute_reply": "2024-11-14T13:01:35.735128Z",
     "shell.execute_reply.started": "2024-11-14T13:01:35.727375Z"
    },
    "id": "5ME7-xJX7daI",
    "trusted": true
   },
   "outputs": [],
   "source": [
    "input_size = 187\n",
    "cnn_output_size = 64\n",
    "hidden_size = 128\n",
    "num_classes = 5\n",
    "\n",
    "patience = 3\n",
    "no_epochs = 50\n",
    "batch_size = 64\n",
    "lr = 0.001"
   ]
  },
  {
   "cell_type": "code",
   "execution_count": 132,
   "metadata": {
    "execution": {
     "iopub.execute_input": "2024-11-14T13:01:35.737619Z",
     "iopub.status.busy": "2024-11-14T13:01:35.737317Z",
     "iopub.status.idle": "2024-11-14T13:01:35.748889Z",
     "shell.execute_reply": "2024-11-14T13:01:35.747988Z",
     "shell.execute_reply.started": "2024-11-14T13:01:35.737585Z"
    },
    "id": "YhFyS85z7e9F",
    "trusted": true
   },
   "outputs": [],
   "source": [
    "def train(model, x_train, y_train, x_test, y_test, batch_size):\n",
    "  train_losses, train_accuracies = [], []\n",
    "  test_losses, test_accuracies = [], []\n",
    "\n",
    "  early_stopper = EarlyStopper(patience=patience, min_delta=0)\n",
    "  loss_fn = nn.CrossEntropyLoss()\n",
    "  optimizer = optim.Adam(model.parameters(), lr=lr)\n",
    "\n",
    "  # Convert data to TensorDataset for DataLoader\n",
    "  train_dataset = TensorDataset(x_train, y_train)\n",
    "  test_dataset = TensorDataset(x_test, y_test)\n",
    "\n",
    "  # Loaders for batching\n",
    "  train_loader = DataLoader(dataset=train_dataset, batch_size=batch_size, shuffle=True)\n",
    "  test_loader = DataLoader(dataset=test_dataset, batch_size=batch_size, shuffle=False)\n",
    "\n",
    "  for epoch in range(no_epochs):\n",
    "    train_loss, train_correct = train_loop(train_loader, model, loss_fn, optimizer)\n",
    "    test_loss, test_correct = test_loop(test_loader, model, loss_fn)\n",
    "\n",
    "    train_losses.append(train_loss)\n",
    "    train_accuracies.append(train_correct)\n",
    "    test_losses.append(test_loss)\n",
    "    test_accuracies.append(test_correct)\n",
    "\n",
    "    print(f\"Epoch {epoch+1}: Train_accuracy: {(100*train_correct):>0.2f}%, Train_loss: {train_loss:>8f}, Val_accuracy: {(100*test_correct):>0.2f}%, Val_loss: {test_loss:>8f}\")\n",
    "\n",
    "    if early_stopper.early_stop(test_loss):\n",
    "      print('Done')\n",
    "      break\n",
    "\n",
    "  return train_accuracies, train_losses, test_accuracies, test_losses"
   ]
  },
  {
   "cell_type": "code",
   "execution_count": 133,
   "metadata": {
    "execution": {
     "iopub.execute_input": "2024-11-14T13:01:35.750299Z",
     "iopub.status.busy": "2024-11-14T13:01:35.750008Z",
     "iopub.status.idle": "2024-11-14T13:01:35.768555Z",
     "shell.execute_reply": "2024-11-14T13:01:35.767554Z",
     "shell.execute_reply.started": "2024-11-14T13:01:35.750265Z"
    },
    "id": "vHRsW7-y7jRW",
    "outputId": "fb914080-67e6-43e2-faf8-1ccf53a10ddb",
    "trusted": true
   },
   "outputs": [
    {
     "data": {
      "text/plain": [
       "CNN_RNN_Hybrid(\n",
       "  (cnn): Sequential(\n",
       "    (0): Conv1d(1, 16, kernel_size=(3,), stride=(1,), padding=(1,))\n",
       "    (1): ReLU()\n",
       "    (2): MaxPool1d(kernel_size=2, stride=2, padding=0, dilation=1, ceil_mode=False)\n",
       "    (3): Conv1d(16, 32, kernel_size=(3,), stride=(1,), padding=(1,))\n",
       "    (4): ReLU()\n",
       "    (5): MaxPool1d(kernel_size=2, stride=2, padding=0, dilation=1, ceil_mode=False)\n",
       "    (6): Conv1d(32, 64, kernel_size=(3,), stride=(1,), padding=(1,))\n",
       "    (7): ReLU()\n",
       "  )\n",
       "  (rnn): LSTM(64, 128, batch_first=True)\n",
       "  (fc): Linear(in_features=128, out_features=5, bias=True)\n",
       ")"
      ]
     },
     "execution_count": 133,
     "metadata": {},
     "output_type": "execute_result"
    }
   ],
   "source": [
    "model = CNN_RNN_Hybrid(input_size, cnn_output_size, hidden_size, num_classes, bidirectional=False)\n",
    "model.to(device)"
   ]
  },
  {
   "cell_type": "code",
   "execution_count": 134,
   "metadata": {
    "execution": {
     "iopub.execute_input": "2024-11-14T13:01:35.771785Z",
     "iopub.status.busy": "2024-11-14T13:01:35.771282Z",
     "iopub.status.idle": "2024-11-14T13:03:38.490115Z",
     "shell.execute_reply": "2024-11-14T13:03:38.489130Z",
     "shell.execute_reply.started": "2024-11-14T13:01:35.771750Z"
    },
    "id": "oXCp-68_7nct",
    "outputId": "221c9a18-3501-40d3-f795-ea635a9b154b",
    "trusted": true
   },
   "outputs": [
    {
     "name": "stdout",
     "output_type": "stream",
     "text": [
      "Epoch 1: Train_accuracy: 83.97%, Train_loss: 0.591055, Val_accuracy: 88.37%, Val_loss: 0.410624\n",
      "Epoch 2: Train_accuracy: 92.09%, Train_loss: 0.318074, Val_accuracy: 93.10%, Val_loss: 0.270165\n",
      "Epoch 3: Train_accuracy: 94.12%, Train_loss: 0.214070, Val_accuracy: 94.95%, Val_loss: 0.181319\n",
      "Epoch 4: Train_accuracy: 95.54%, Train_loss: 0.161009, Val_accuracy: 95.83%, Val_loss: 0.148576\n",
      "Epoch 5: Train_accuracy: 96.19%, Train_loss: 0.139940, Val_accuracy: 96.47%, Val_loss: 0.136533\n",
      "Epoch 6: Train_accuracy: 96.74%, Train_loss: 0.123064, Val_accuracy: 96.11%, Val_loss: 0.135718\n",
      "Epoch 7: Train_accuracy: 96.94%, Train_loss: 0.112542, Val_accuracy: 97.15%, Val_loss: 0.103689\n",
      "Epoch 8: Train_accuracy: 97.24%, Train_loss: 0.101479, Val_accuracy: 96.86%, Val_loss: 0.112934\n",
      "Epoch 9: Train_accuracy: 97.30%, Train_loss: 0.095541, Val_accuracy: 97.41%, Val_loss: 0.092167\n",
      "Epoch 10: Train_accuracy: 97.58%, Train_loss: 0.088642, Val_accuracy: 97.45%, Val_loss: 0.090405\n",
      "Epoch 11: Train_accuracy: 97.61%, Train_loss: 0.084138, Val_accuracy: 97.74%, Val_loss: 0.081522\n",
      "Epoch 12: Train_accuracy: 97.68%, Train_loss: 0.080421, Val_accuracy: 97.71%, Val_loss: 0.084187\n",
      "Epoch 13: Train_accuracy: 97.88%, Train_loss: 0.074869, Val_accuracy: 97.70%, Val_loss: 0.077896\n",
      "Epoch 14: Train_accuracy: 97.92%, Train_loss: 0.072079, Val_accuracy: 97.90%, Val_loss: 0.074977\n",
      "Epoch 15: Train_accuracy: 98.04%, Train_loss: 0.068652, Val_accuracy: 97.90%, Val_loss: 0.071791\n",
      "Epoch 16: Train_accuracy: 98.15%, Train_loss: 0.064744, Val_accuracy: 97.98%, Val_loss: 0.067769\n",
      "Epoch 17: Train_accuracy: 98.21%, Train_loss: 0.062669, Val_accuracy: 97.82%, Val_loss: 0.074219\n",
      "Epoch 18: Train_accuracy: 98.23%, Train_loss: 0.060051, Val_accuracy: 97.96%, Val_loss: 0.067566\n",
      "Epoch 19: Train_accuracy: 98.34%, Train_loss: 0.056193, Val_accuracy: 98.11%, Val_loss: 0.066831\n",
      "Epoch 20: Train_accuracy: 98.36%, Train_loss: 0.055206, Val_accuracy: 97.25%, Val_loss: 0.090765\n",
      "Epoch 21: Train_accuracy: 98.50%, Train_loss: 0.052212, Val_accuracy: 97.96%, Val_loss: 0.068516\n",
      "Epoch 22: Train_accuracy: 98.48%, Train_loss: 0.050103, Val_accuracy: 97.94%, Val_loss: 0.069068\n",
      "Done\n"
     ]
    }
   ],
   "source": [
    "train_accuracies, train_losses, val_accuracies, val_losses = train(model, x_train, y_train, x_val, y_val, batch_size)"
   ]
  },
  {
   "cell_type": "code",
   "execution_count": 135,
   "metadata": {
    "execution": {
     "iopub.execute_input": "2024-11-14T13:03:38.492322Z",
     "iopub.status.busy": "2024-11-14T13:03:38.491382Z",
     "iopub.status.idle": "2024-11-14T13:03:39.259679Z",
     "shell.execute_reply": "2024-11-14T13:03:39.258722Z",
     "shell.execute_reply.started": "2024-11-14T13:03:38.492282Z"
    },
    "id": "--p6Omk4T5Iz",
    "outputId": "1358f731-a88a-4dfb-e2c5-a595a9c00f17",
    "trusted": true
   },
   "outputs": [
    {
     "name": "stdout",
     "output_type": "stream",
     "text": [
      "Test accuracy: 97.68%, Test loss: 0.084945\n"
     ]
    }
   ],
   "source": [
    "loss_fn = nn.CrossEntropyLoss()\n",
    "\n",
    "# Convert data to TensorDataset for DataLoader\n",
    "test_dataset = TensorDataset(x_test, y_test)\n",
    "\n",
    "# Loaders for batching\n",
    "test_loader = DataLoader(dataset=test_dataset, batch_size=batch_size, shuffle=False)\n",
    "\n",
    "test_loss, test_accuracy = test_loop(test_loader, model, loss_fn)\n",
    "print(f\"Test accuracy: {(100*test_accuracy):>0.2f}%, Test loss: {test_loss:>8f}\")"
   ]
  },
  {
   "cell_type": "markdown",
   "metadata": {
    "id": "4Yn0TWREgpoW"
   },
   "source": [
    "We can observe that the accuracy on the test set is very good. However, as we found earlier, the dataset is imbalanced, which may mean that the accuracy could be misleading and not reflect actual performance of the predictions for all classes."
   ]
  },
  {
   "cell_type": "code",
   "execution_count": 136,
   "metadata": {
    "execution": {
     "iopub.execute_input": "2024-11-14T13:03:39.261066Z",
     "iopub.status.busy": "2024-11-14T13:03:39.260772Z",
     "iopub.status.idle": "2024-11-14T13:03:40.001205Z",
     "shell.execute_reply": "2024-11-14T13:03:40.000383Z",
     "shell.execute_reply.started": "2024-11-14T13:03:39.261034Z"
    },
    "id": "2yR02vWPafA-",
    "trusted": true
   },
   "outputs": [],
   "source": [
    "def get_predictions(model, test_loader, device):\n",
    "  model.eval()  # Set model to evaluation mode\n",
    "  predictions = []  # List to store predictions\n",
    "\n",
    "  with torch.no_grad():  # Disable gradient calculation\n",
    "    for inputs, _ in test_loader:  # We don't need labels for predictions\n",
    "      # Move inputs to the correct device\n",
    "      inputs = inputs.to(device)\n",
    "\n",
    "      # Forward pass\n",
    "      outputs = model(inputs)\n",
    "\n",
    "      # Get predicted class labels\n",
    "      _, predicted = torch.max(outputs, 1)\n",
    "\n",
    "      # Append predictions to the list\n",
    "      predictions.extend(predicted.cpu().numpy())  # Move to CPU and convert to numpy\n",
    "\n",
    "  return predictions\n",
    "\n",
    "# Get predictions for the test set\n",
    "test_predictions = get_predictions(model, test_loader, device)"
   ]
  },
  {
   "cell_type": "code",
   "execution_count": 137,
   "metadata": {
    "execution": {
     "iopub.execute_input": "2024-11-14T13:03:40.002630Z",
     "iopub.status.busy": "2024-11-14T13:03:40.002281Z",
     "iopub.status.idle": "2024-11-14T13:03:40.283589Z",
     "shell.execute_reply": "2024-11-14T13:03:40.282676Z",
     "shell.execute_reply.started": "2024-11-14T13:03:40.002595Z"
    },
    "id": "5uY8DrYAfUlA",
    "outputId": "4c174e05-9769-4f7c-c0e9-db5929583770",
    "trusted": true
   },
   "outputs": [
    {
     "data": {
      "image/png": "[encoded data removed]",
      "text/plain": [
       "<Figure size 640x480 with 2 Axes>"
      ]
     },
     "metadata": {},
     "output_type": "display_data"
    }
   ],
   "source": [
    "actual_labels = y_test.tolist()\n",
    "\n",
    "class_labels = [\"N\", \"S\", \"V\", \"F\", \"Q\"]\n",
    "\n",
    "cm = confusion_matrix(actual_labels, test_predictions, labels=[0,1,2,3,4])\n",
    "\n",
    "cm_normalized = cm.astype('float') / cm.sum(axis=1)[:, np.newaxis]\n",
    "\n",
    "disp = ConfusionMatrixDisplay(confusion_matrix=cm_normalized, display_labels=class_labels)\n",
    "disp.plot(cmap=plt.cm.Blues, values_format=\".5f\")\n",
    "\n",
    "plt.title(\"Confusion Matrix\")\n",
    "plt.ylabel('Actual')\n",
    "plt.xlabel('Predicted')\n",
    "plt.show()"
   ]
  },
  {
   "cell_type": "code",
   "execution_count": 138,
   "metadata": {
    "execution": {
     "iopub.execute_input": "2024-11-14T13:03:40.285380Z",
     "iopub.status.busy": "2024-11-14T13:03:40.284995Z",
     "iopub.status.idle": "2024-11-14T13:03:40.342178Z",
     "shell.execute_reply": "2024-11-14T13:03:40.341313Z",
     "shell.execute_reply.started": "2024-11-14T13:03:40.285337Z"
    },
    "id": "h05OQZOLWxD7",
    "outputId": "9b4847e0-2061-40a8-98bc-6fff64c4fd3a",
    "trusted": true
   },
   "outputs": [
    {
     "name": "stdout",
     "output_type": "stream",
     "text": [
      "              precision    recall  f1-score   support\n",
      "\n",
      "           N       0.99      0.99      0.99     18117\n",
      "           S       0.84      0.70      0.76       556\n",
      "           V       0.91      0.95      0.93      1448\n",
      "           F       0.82      0.67      0.74       162\n",
      "           Q       0.99      0.97      0.98      1608\n",
      "\n",
      "    accuracy                           0.98     21891\n",
      "   macro avg       0.91      0.85      0.88     21891\n",
      "weighted avg       0.98      0.98      0.98     21891\n",
      "\n"
     ]
    }
   ],
   "source": [
    "report = classification_report(actual_labels, test_predictions, target_names=class_labels)\n",
    "print(report)"
   ]
  },
  {
   "cell_type": "markdown",
   "metadata": {},
   "source": [
    "Testing bidirectional = True for LSTM layer"
   ]
  },
  {
   "cell_type": "code",
   "execution_count": 139,
   "metadata": {
    "execution": {
     "iopub.execute_input": "2024-11-14T13:03:40.343512Z",
     "iopub.status.busy": "2024-11-14T13:03:40.343221Z",
     "iopub.status.idle": "2024-11-14T13:03:40.355817Z",
     "shell.execute_reply": "2024-11-14T13:03:40.354834Z",
     "shell.execute_reply.started": "2024-11-14T13:03:40.343477Z"
    },
    "trusted": true
   },
   "outputs": [
    {
     "data": {
      "text/plain": [
       "CNN_RNN_Hybrid(\n",
       "  (cnn): Sequential(\n",
       "    (0): Conv1d(1, 16, kernel_size=(3,), stride=(1,), padding=(1,))\n",
       "    (1): ReLU()\n",
       "    (2): MaxPool1d(kernel_size=2, stride=2, padding=0, dilation=1, ceil_mode=False)\n",
       "    (3): Conv1d(16, 32, kernel_size=(3,), stride=(1,), padding=(1,))\n",
       "    (4): ReLU()\n",
       "    (5): MaxPool1d(kernel_size=2, stride=2, padding=0, dilation=1, ceil_mode=False)\n",
       "    (6): Conv1d(32, 64, kernel_size=(3,), stride=(1,), padding=(1,))\n",
       "    (7): ReLU()\n",
       "  )\n",
       "  (rnn): LSTM(64, 128, batch_first=True, bidirectional=True)\n",
       "  (fc): Linear(in_features=256, out_features=5, bias=True)\n",
       ")"
      ]
     },
     "execution_count": 139,
     "metadata": {},
     "output_type": "execute_result"
    }
   ],
   "source": [
    "model = CNN_RNN_Hybrid(input_size, cnn_output_size, hidden_size, num_classes, bidirectional=True)\n",
    "model.to(device)"
   ]
  },
  {
   "cell_type": "code",
   "execution_count": 140,
   "metadata": {
    "execution": {
     "iopub.execute_input": "2024-11-14T13:03:40.357601Z",
     "iopub.status.busy": "2024-11-14T13:03:40.356983Z",
     "iopub.status.idle": "2024-11-14T13:06:24.583722Z",
     "shell.execute_reply": "2024-11-14T13:06:24.582828Z",
     "shell.execute_reply.started": "2024-11-14T13:03:40.357557Z"
    },
    "trusted": true
   },
   "outputs": [
    {
     "name": "stdout",
     "output_type": "stream",
     "text": [
      "Epoch 1: Train_accuracy: 84.47%, Train_loss: 0.582165, Val_accuracy: 89.74%, Val_loss: 0.368822\n",
      "Epoch 2: Train_accuracy: 93.05%, Train_loss: 0.269188, Val_accuracy: 94.29%, Val_loss: 0.214923\n",
      "Epoch 3: Train_accuracy: 94.29%, Train_loss: 0.210642, Val_accuracy: 95.17%, Val_loss: 0.166979\n",
      "Epoch 4: Train_accuracy: 95.38%, Train_loss: 0.159868, Val_accuracy: 96.17%, Val_loss: 0.138057\n",
      "Epoch 5: Train_accuracy: 96.29%, Train_loss: 0.132247, Val_accuracy: 96.69%, Val_loss: 0.120288\n",
      "Epoch 6: Train_accuracy: 96.83%, Train_loss: 0.113324, Val_accuracy: 97.06%, Val_loss: 0.105072\n",
      "Epoch 7: Train_accuracy: 97.00%, Train_loss: 0.104767, Val_accuracy: 97.17%, Val_loss: 0.100186\n",
      "Epoch 8: Train_accuracy: 97.10%, Train_loss: 0.103640, Val_accuracy: 97.21%, Val_loss: 0.099421\n",
      "Epoch 9: Train_accuracy: 97.43%, Train_loss: 0.091192, Val_accuracy: 97.49%, Val_loss: 0.088449\n",
      "Epoch 10: Train_accuracy: 97.58%, Train_loss: 0.084813, Val_accuracy: 97.55%, Val_loss: 0.088593\n",
      "Epoch 11: Train_accuracy: 97.66%, Train_loss: 0.082581, Val_accuracy: 97.49%, Val_loss: 0.086465\n",
      "Epoch 12: Train_accuracy: 97.88%, Train_loss: 0.076563, Val_accuracy: 97.78%, Val_loss: 0.078720\n",
      "Epoch 13: Train_accuracy: 97.97%, Train_loss: 0.071577, Val_accuracy: 97.69%, Val_loss: 0.078467\n",
      "Epoch 14: Train_accuracy: 97.92%, Train_loss: 0.071375, Val_accuracy: 97.84%, Val_loss: 0.076322\n",
      "Epoch 15: Train_accuracy: 98.11%, Train_loss: 0.066155, Val_accuracy: 97.84%, Val_loss: 0.075337\n",
      "Epoch 16: Train_accuracy: 98.13%, Train_loss: 0.064224, Val_accuracy: 97.50%, Val_loss: 0.088478\n",
      "Epoch 17: Train_accuracy: 98.20%, Train_loss: 0.061735, Val_accuracy: 97.88%, Val_loss: 0.072456\n",
      "Epoch 18: Train_accuracy: 98.24%, Train_loss: 0.060072, Val_accuracy: 97.60%, Val_loss: 0.079659\n",
      "Epoch 19: Train_accuracy: 98.28%, Train_loss: 0.058507, Val_accuracy: 97.95%, Val_loss: 0.070872\n",
      "Epoch 20: Train_accuracy: 98.34%, Train_loss: 0.055794, Val_accuracy: 97.82%, Val_loss: 0.075299\n",
      "Epoch 21: Train_accuracy: 98.37%, Train_loss: 0.055473, Val_accuracy: 97.75%, Val_loss: 0.077266\n",
      "Epoch 22: Train_accuracy: 98.43%, Train_loss: 0.053125, Val_accuracy: 97.80%, Val_loss: 0.073210\n",
      "Done\n"
     ]
    }
   ],
   "source": [
    "train_accuracies, train_losses, val_accuracies, val_losses = train(model, x_train, y_train, x_val, y_val, batch_size)"
   ]
  },
  {
   "cell_type": "code",
   "execution_count": 141,
   "metadata": {
    "execution": {
     "iopub.execute_input": "2024-11-14T13:06:24.585418Z",
     "iopub.status.busy": "2024-11-14T13:06:24.585138Z",
     "iopub.status.idle": "2024-11-14T13:06:25.559053Z",
     "shell.execute_reply": "2024-11-14T13:06:25.558187Z",
     "shell.execute_reply.started": "2024-11-14T13:06:24.585388Z"
    },
    "trusted": true
   },
   "outputs": [
    {
     "name": "stdout",
     "output_type": "stream",
     "text": [
      "Test accuracy: 97.58%, Test loss: 0.085569\n"
     ]
    }
   ],
   "source": [
    "loss_fn = nn.CrossEntropyLoss()\n",
    "\n",
    "# Convert data to TensorDataset for DataLoader\n",
    "test_dataset = TensorDataset(x_test, y_test)\n",
    "\n",
    "# Loaders for batching\n",
    "test_loader = DataLoader(dataset=test_dataset, batch_size=batch_size, shuffle=False)\n",
    "\n",
    "test_loss, test_accuracy = test_loop(test_loader, model, loss_fn)\n",
    "print(f\"Test accuracy: {(100*test_accuracy):>0.2f}%, Test loss: {test_loss:>8f}\")"
   ]
  },
  {
   "cell_type": "code",
   "execution_count": 142,
   "metadata": {
    "execution": {
     "iopub.execute_input": "2024-11-14T13:06:25.564769Z",
     "iopub.status.busy": "2024-11-14T13:06:25.564213Z",
     "iopub.status.idle": "2024-11-14T13:06:26.539422Z",
     "shell.execute_reply": "2024-11-14T13:06:26.538443Z",
     "shell.execute_reply.started": "2024-11-14T13:06:25.564732Z"
    },
    "trusted": true
   },
   "outputs": [
    {
     "name": "stdout",
     "output_type": "stream",
     "text": [
      "              precision    recall  f1-score   support\n",
      "\n",
      "           N       0.99      0.99      0.99     18117\n",
      "           S       0.86      0.67      0.76       556\n",
      "           V       0.90      0.95      0.93      1448\n",
      "           F       0.70      0.77      0.73       162\n",
      "           Q       0.98      0.98      0.98      1608\n",
      "\n",
      "    accuracy                           0.98     21891\n",
      "   macro avg       0.89      0.87      0.88     21891\n",
      "weighted avg       0.98      0.98      0.98     21891\n",
      "\n"
     ]
    }
   ],
   "source": [
    "test_predictions = get_predictions(model, test_loader, device)\n",
    "report = classification_report(actual_labels, test_predictions, target_names=class_labels)\n",
    "print(report)"
   ]
  },
  {
   "cell_type": "markdown",
   "metadata": {
    "id": "QV13dw6ofrv_"
   },
   "source": [
    "From the relative accuracies for the different classes, we can observe that the model does not perform that well in predicting samples in class 1, 2 and 3 relative to class 0 and 4 as can be observed by the f1-score.\n",
    "\n",
    "We can explore ways to augment the original datasets to tackle this."
   ]
  },
  {
   "cell_type": "markdown",
   "metadata": {
    "id": "LQRQ463m-iEh"
   },
   "source": [
    "## Data Transformation"
   ]
  },
  {
   "cell_type": "markdown",
   "metadata": {
    "id": "OFVVmLJIOhWF"
   },
   "source": [
    "We will try SMOTE to deal with the imbalanced dataset:"
   ]
  },
  {
   "cell_type": "markdown",
   "metadata": {
    "id": "_i4Yb8HGgu2U"
   },
   "source": [
    "### SMOTE"
   ]
  },
  {
   "cell_type": "code",
   "execution_count": 162,
   "metadata": {
    "execution": {
     "iopub.execute_input": "2024-11-14T13:37:32.011932Z",
     "iopub.status.busy": "2024-11-14T13:37:32.011491Z",
     "iopub.status.idle": "2024-11-14T13:37:34.981529Z",
     "shell.execute_reply": "2024-11-14T13:37:34.980480Z",
     "shell.execute_reply.started": "2024-11-14T13:37:32.011892Z"
    },
    "id": "P-GRLHljgx4O",
    "outputId": "197c3783-c696-47aa-e3ea-6f9215c4ba05",
    "trusted": true
   },
   "outputs": [
    {
     "name": "stderr",
     "output_type": "stream",
     "text": [
      "/opt/conda/lib/python3.10/site-packages/sklearn/base.py:439: UserWarning: X does not have valid feature names, but MinMaxScaler was fitted with feature names\n",
      "  warnings.warn(\n",
      "/tmp/ipykernel_30/1851780834.py:27: UserWarning: To copy construct from a tensor, it is recommended to use sourceTensor.clone().detach() or sourceTensor.clone().detach().requires_grad_(True), rather than torch.tensor(sourceTensor).\n",
      "  y_test = torch.tensor(y_test, dtype=torch.long)\n"
     ]
    }
   ],
   "source": [
    "from sklearn.preprocessing import MinMaxScaler\n",
    "\n",
    "smote_over_sampler = SMOTE()\n",
    "x_resampled, y_resampled = smote_over_sampler.fit_resample(df_train.iloc[:, :-1], df_train.iloc[:,-1])\n",
    "\n",
    "scaler = MinMaxScaler()\n",
    "X_resampled_scaled = scaler.fit_transform(x_resampled)\n",
    "y_train = y_resampled.values\n",
    "\n",
    "x_test_scaled = scaler.transform(x_test)\n",
    "\n",
    "x_train_resampled, x_val_resampled, y_train_resampled, y_val_resampled = train_test_split(X_resampled_scaled, y_train, test_size=0.2, random_state=seed_value)\n",
    "\n",
    "# x_train_resampled = df_train_resampled.iloc[:, :-1]\n",
    "# y_train_resampled = df_train_resampled.iloc[:, -1]\n",
    "\n",
    "# x_val_resampled = df_val_resampled.iloc[:, :-1]\n",
    "# y_val_resampled = df_val_resampled.iloc[:, -1]\n",
    "\n",
    "x_train_resampled = torch.tensor(x_train_resampled, dtype=torch.float32)\n",
    "y_train_resampled = torch.tensor(y_train_resampled, dtype=torch.long)\n",
    "\n",
    "x_val_resampled = torch.tensor(x_val_resampled, dtype=torch.float32)\n",
    "y_val_resampled = torch.tensor(y_val_resampled, dtype=torch.long)\n",
    "\n",
    "x_test = torch.tensor(x_test_scaled, dtype=torch.float32)\n",
    "y_test = torch.tensor(y_test, dtype=torch.long)"
   ]
  },
  {
   "cell_type": "code",
   "execution_count": 163,
   "metadata": {
    "execution": {
     "iopub.execute_input": "2024-11-14T13:37:34.984092Z",
     "iopub.status.busy": "2024-11-14T13:37:34.983625Z",
     "iopub.status.idle": "2024-11-14T13:37:34.990597Z",
     "shell.execute_reply": "2024-11-14T13:37:34.989729Z",
     "shell.execute_reply.started": "2024-11-14T13:37:34.984042Z"
    },
    "id": "oFwC90EIhN81",
    "outputId": "13809455-2a13-43d5-accc-fbb841207036",
    "trusted": true
   },
   "outputs": [
    {
     "name": "stdout",
     "output_type": "stream",
     "text": [
      "[[    0 46290]\n",
      " [    1 46362]\n",
      " [    2 46415]\n",
      " [    3 46328]\n",
      " [    4 46469]]\n"
     ]
    }
   ],
   "source": [
    "# Observe new count for classes\n",
    "unique, counts = np.unique(y_train_resampled, return_counts=True)\n",
    "print(np.asarray((unique, counts)).T)"
   ]
  },
  {
   "cell_type": "code",
   "execution_count": 164,
   "metadata": {
    "execution": {
     "iopub.execute_input": "2024-11-14T13:37:34.992178Z",
     "iopub.status.busy": "2024-11-14T13:37:34.991888Z",
     "iopub.status.idle": "2024-11-14T13:37:35.007014Z",
     "shell.execute_reply": "2024-11-14T13:37:35.005981Z",
     "shell.execute_reply.started": "2024-11-14T13:37:34.992147Z"
    },
    "id": "TBxeVBkmhSeC",
    "outputId": "477353a0-f0b1-4c54-da7b-9804093845df",
    "trusted": true
   },
   "outputs": [
    {
     "data": {
      "text/plain": [
       "CNN_RNN_Hybrid(\n",
       "  (cnn): Sequential(\n",
       "    (0): Conv1d(1, 16, kernel_size=(3,), stride=(1,), padding=(1,))\n",
       "    (1): ReLU()\n",
       "    (2): MaxPool1d(kernel_size=2, stride=2, padding=0, dilation=1, ceil_mode=False)\n",
       "    (3): Conv1d(16, 32, kernel_size=(3,), stride=(1,), padding=(1,))\n",
       "    (4): ReLU()\n",
       "    (5): MaxPool1d(kernel_size=2, stride=2, padding=0, dilation=1, ceil_mode=False)\n",
       "    (6): Conv1d(32, 64, kernel_size=(3,), stride=(1,), padding=(1,))\n",
       "    (7): ReLU()\n",
       "  )\n",
       "  (rnn): LSTM(64, 128, batch_first=True, bidirectional=True)\n",
       "  (fc): Linear(in_features=256, out_features=5, bias=True)\n",
       ")"
      ]
     },
     "execution_count": 164,
     "metadata": {},
     "output_type": "execute_result"
    }
   ],
   "source": [
    "smote_model = CNN_RNN_Hybrid(input_size, cnn_output_size, hidden_size, num_classes, bidirectional=True)\n",
    "smote_model.to(device)"
   ]
  },
  {
   "cell_type": "code",
   "execution_count": 165,
   "metadata": {
    "execution": {
     "iopub.execute_input": "2024-11-14T13:37:35.009557Z",
     "iopub.status.busy": "2024-11-14T13:37:35.009276Z",
     "iopub.status.idle": "2024-11-14T13:45:57.826244Z",
     "shell.execute_reply": "2024-11-14T13:45:57.825280Z",
     "shell.execute_reply.started": "2024-11-14T13:37:35.009525Z"
    },
    "id": "tG9NrjfGhmPC",
    "outputId": "c07f1418-2d8e-4fd9-9406-2adda7a1f7f1",
    "trusted": true
   },
   "outputs": [
    {
     "name": "stdout",
     "output_type": "stream",
     "text": [
      "Epoch 1: Train_accuracy: 76.68%, Train_loss: 0.614302, Val_accuracy: 89.18%, Val_loss: 0.302197\n",
      "Epoch 2: Train_accuracy: 92.00%, Train_loss: 0.225886, Val_accuracy: 94.18%, Val_loss: 0.163120\n",
      "Epoch 3: Train_accuracy: 94.97%, Train_loss: 0.144898, Val_accuracy: 95.83%, Val_loss: 0.119879\n",
      "Epoch 4: Train_accuracy: 96.19%, Train_loss: 0.109284, Val_accuracy: 96.87%, Val_loss: 0.091891\n",
      "Epoch 5: Train_accuracy: 97.02%, Train_loss: 0.087891, Val_accuracy: 97.25%, Val_loss: 0.078450\n",
      "Epoch 6: Train_accuracy: 97.55%, Train_loss: 0.072375, Val_accuracy: 97.76%, Val_loss: 0.071575\n",
      "Epoch 7: Train_accuracy: 97.93%, Train_loss: 0.062315, Val_accuracy: 97.42%, Val_loss: 0.077336\n",
      "Epoch 8: Train_accuracy: 98.23%, Train_loss: 0.054333, Val_accuracy: 98.29%, Val_loss: 0.055133\n",
      "Epoch 9: Train_accuracy: 98.42%, Train_loss: 0.047983, Val_accuracy: 97.96%, Val_loss: 0.062109\n",
      "Epoch 10: Train_accuracy: 98.64%, Train_loss: 0.042025, Val_accuracy: 98.54%, Val_loss: 0.042934\n",
      "Epoch 11: Train_accuracy: 98.78%, Train_loss: 0.037863, Val_accuracy: 98.93%, Val_loss: 0.035835\n",
      "Epoch 12: Train_accuracy: 98.86%, Train_loss: 0.035839, Val_accuracy: 98.81%, Val_loss: 0.038261\n",
      "Epoch 13: Train_accuracy: 98.96%, Train_loss: 0.032770, Val_accuracy: 98.48%, Val_loss: 0.048093\n",
      "Epoch 14: Train_accuracy: 99.01%, Train_loss: 0.030580, Val_accuracy: 98.88%, Val_loss: 0.035776\n",
      "Epoch 15: Train_accuracy: 99.09%, Train_loss: 0.027795, Val_accuracy: 98.98%, Val_loss: 0.032050\n",
      "Epoch 16: Train_accuracy: 99.16%, Train_loss: 0.026164, Val_accuracy: 98.98%, Val_loss: 0.032969\n",
      "Epoch 17: Train_accuracy: 99.20%, Train_loss: 0.024374, Val_accuracy: 98.89%, Val_loss: 0.034833\n",
      "Epoch 18: Train_accuracy: 99.25%, Train_loss: 0.023345, Val_accuracy: 99.25%, Val_loss: 0.024400\n",
      "Epoch 19: Train_accuracy: 99.29%, Train_loss: 0.022553, Val_accuracy: 99.09%, Val_loss: 0.030312\n",
      "Epoch 20: Train_accuracy: 99.33%, Train_loss: 0.021312, Val_accuracy: 99.12%, Val_loss: 0.030575\n",
      "Epoch 21: Train_accuracy: 99.36%, Train_loss: 0.019761, Val_accuracy: 99.22%, Val_loss: 0.026904\n",
      "Done\n"
     ]
    }
   ],
   "source": [
    "train_accuracies, train_losses, val_accuracies, val_losses = train(smote_model, x_train_resampled, y_train_resampled, x_val_resampled, y_val_resampled, batch_size)"
   ]
  },
  {
   "cell_type": "code",
   "execution_count": 166,
   "metadata": {
    "execution": {
     "iopub.execute_input": "2024-11-14T13:45:57.827892Z",
     "iopub.status.busy": "2024-11-14T13:45:57.827526Z",
     "iopub.status.idle": "2024-11-14T13:45:58.812605Z",
     "shell.execute_reply": "2024-11-14T13:45:58.811654Z",
     "shell.execute_reply.started": "2024-11-14T13:45:57.827857Z"
    },
    "id": "LADgjXiBhtVe",
    "outputId": "b173f344-e3cc-4c2c-94d0-c42af1d075a0",
    "trusted": true
   },
   "outputs": [
    {
     "name": "stdout",
     "output_type": "stream",
     "text": [
      "Test accuracy: 97.61%, Test loss: 0.107246\n"
     ]
    }
   ],
   "source": [
    "# Convert data to TensorDataset for DataLoader\n",
    "test_dataset = TensorDataset(x_test, y_test)\n",
    "\n",
    "# Loaders for batching\n",
    "test_loader = DataLoader(dataset=test_dataset, batch_size=batch_size, shuffle=False)\n",
    "\n",
    "test_loss, test_accuracy = test_loop(test_loader, smote_model, loss_fn)\n",
    "print(f\"Test accuracy: {(100*test_accuracy):>0.2f}%, Test loss: {test_loss:>8f}\")"
   ]
  },
  {
   "cell_type": "code",
   "execution_count": 167,
   "metadata": {
    "execution": {
     "iopub.execute_input": "2024-11-14T13:45:58.814462Z",
     "iopub.status.busy": "2024-11-14T13:45:58.814064Z",
     "iopub.status.idle": "2024-11-14T13:45:59.790811Z",
     "shell.execute_reply": "2024-11-14T13:45:59.789788Z",
     "shell.execute_reply.started": "2024-11-14T13:45:58.814424Z"
    },
    "id": "vgogZ1pUlO__",
    "outputId": "d3868e9c-e616-46b8-db1c-7a3915a9dc8e",
    "trusted": true
   },
   "outputs": [
    {
     "name": "stdout",
     "output_type": "stream",
     "text": [
      "              precision    recall  f1-score   support\n",
      "\n",
      "           N       0.99      0.98      0.99     18117\n",
      "           S       0.72      0.82      0.76       556\n",
      "           V       0.94      0.95      0.95      1448\n",
      "           F       0.62      0.86      0.72       162\n",
      "           Q       0.98      0.98      0.98      1608\n",
      "\n",
      "    accuracy                           0.98     21891\n",
      "   macro avg       0.85      0.92      0.88     21891\n",
      "weighted avg       0.98      0.98      0.98     21891\n",
      "\n"
     ]
    }
   ],
   "source": [
    "test_predictions = get_predictions(smote_model, test_loader, device)\n",
    "\n",
    "smote_report = classification_report(actual_labels, test_predictions, target_names=class_labels)\n",
    "print(smote_report)"
   ]
  }
 ],
 "metadata": {
  "accelerator": "GPU",
  "colab": {
   "gpuType": "T4",
   "provenance": []
  },
  "kaggle": {
   "accelerator": "gpu",
   "dataSources": [
    {
     "databundleVersionId": 39061,
     "datasetId": 29414,
     "sourceId": 37484,
     "sourceType": "datasetVersion"
    }
   ],
   "dockerImageVersionId": 30787,
   "isGpuEnabled": true,
   "isInternetEnabled": true,
   "language": "python",
   "sourceType": "notebook"
  },
  "kernelspec": {
   "display_name": "Python 3",
   "language": "python",
   "name": "python3"
  },
  "language_info": {
   "codemirror_mode": {
    "name": "ipython",
    "version": 3
   },
   "file_extension": ".py",
   "mimetype": "text/x-python",
   "name": "python",
   "nbconvert_exporter": "python",
   "pygments_lexer": "ipython3",
   "version": "3.10.14"
  }
 },
 "nbformat": 4,
 "nbformat_minor": 4
}
