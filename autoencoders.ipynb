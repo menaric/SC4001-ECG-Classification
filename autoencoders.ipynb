{
  "cells": [
    {
      "cell_type": "code",
      "execution_count": 1,
      "metadata": {
        "id": "9NUClAOVSI_r"
      },
      "outputs": [],
      "source": [
        "import pandas as pd\n",
        "import numpy as np\n",
        "import random\n",
        "import torch\n",
        "import torch.nn as nn\n",
        "import torch.optim as optim\n",
        "from torch.utils.data import DataLoader, TensorDataset\n",
        "from sklearn.model_selection import train_test_split\n",
        "from sklearn.utils import resample\n",
        "import matplotlib.pyplot as plt\n",
        "from sklearn.metrics import confusion_matrix, ConfusionMatrixDisplay\n",
        "from imblearn.over_sampling import RandomOverSampler, SMOTE\n",
        "from imblearn.under_sampling import RandomUnderSampler\n",
        "from sklearn.metrics import classification_report\n",
        "import math\n",
        "import torch.nn.functional as F\n",
        "from sklearn.utils.class_weight import compute_class_weight"
      ]
    },
    {
      "cell_type": "markdown",
      "metadata": {
        "id": "oHUKSw7T6zFJ"
      },
      "source": [
        "Arrythmia Dataset\n",
        "- Number of samples: 109446\n",
        "- Number of categories: 5\n",
        "- Classes: ['N': 0, 'S': 1, 'V': 2, 'F': 3, 'Q': 4]\n",
        "- Sampling Frequency: 125Hz\n",
        "- Data Source: Physionet's MIT-BIH Arrythmia Dataset"
      ]
    },
    {
      "cell_type": "code",
      "execution_count": 2,
      "metadata": {
        "colab": {
          "base_uri": "https://localhost:8080/"
        },
        "id": "lNvRrojO81eW",
        "outputId": "0ddf055b-3135-4248-b269-c8557316e92a"
      },
      "outputs": [
        {
          "output_type": "stream",
          "name": "stdout",
          "text": [
            "Mounted at /content/drive\n"
          ]
        }
      ],
      "source": [
        "# Mount google drive\n",
        "from google.colab import drive\n",
        "drive.mount('/content/drive')"
      ]
    },
    {
      "cell_type": "code",
      "execution_count": 3,
      "metadata": {
        "colab": {
          "base_uri": "https://localhost:8080/"
        },
        "id": "DMag-Fw9S0yi",
        "outputId": "43c357d0-3e6f-4728-be82-e9a9754965ac"
      },
      "outputs": [
        {
          "output_type": "stream",
          "name": "stdout",
          "text": [
            "cuda\n"
          ]
        }
      ],
      "source": [
        "device = 'cuda' if torch.cuda.is_available() else 'cpu'\n",
        "print(device)"
      ]
    },
    {
      "cell_type": "code",
      "execution_count": 4,
      "metadata": {
        "id": "1v28kwFNhw0m"
      },
      "outputs": [],
      "source": [
        "# Set seeds\n",
        "seed_value = 0\n",
        "torch.manual_seed(seed_value)\n",
        "random.seed(seed_value)\n",
        "np.random.seed(seed_value)\n",
        "\n",
        "if torch.cuda.is_available():\n",
        "    torch.cuda.manual_seed(seed_value)\n",
        "    torch.cuda.manual_seed_all(seed_value)  # if using multi-GPU\n",
        "    torch.backends.cudnn.deterministic = True\n",
        "    torch.backends.cudnn.benchmark = False"
      ]
    },
    {
      "cell_type": "markdown",
      "metadata": {
        "id": "oUYOrxfm61Qo"
      },
      "source": [
        "## Data exploration"
      ]
    },
    {
      "cell_type": "code",
      "execution_count": 5,
      "metadata": {
        "id": "uoZM-2zY6xXm"
      },
      "outputs": [],
      "source": [
        "train_df = pd.read_csv('/content/drive/MyDrive/nn_group/mitbih_train.csv')\n",
        "test_df = pd.read_csv('/content/drive/MyDrive/nn_group/mitbih_test.csv')"
      ]
    },
    {
      "cell_type": "code",
      "execution_count": 6,
      "metadata": {
        "colab": {
          "base_uri": "https://localhost:8080/"
        },
        "id": "Fkg86Jdz65F5",
        "outputId": "d6e20ba5-0f71-40e3-fc71-02d6380102b0"
      },
      "outputs": [
        {
          "output_type": "stream",
          "name": "stdout",
          "text": [
            "Shape of train data: (87553, 188)\n",
            "Shape of test data: (21891, 188)\n"
          ]
        }
      ],
      "source": [
        "print(f\"Shape of train data: {train_df.shape}\")\n",
        "print(f\"Shape of test data: {test_df.shape}\")"
      ]
    },
    {
      "cell_type": "code",
      "source": [
        "# If your dataframes don't have column names, assign them\n",
        "# This creates columns named '0', '1', '2', ...\n",
        "train_df.columns = [str(i) for i in range(train_df.shape[1])]\n",
        "test_df.columns = [str(i) for i in range(test_df.shape[1])]"
      ],
      "metadata": {
        "id": "ytXzDoFHrTy4"
      },
      "execution_count": 7,
      "outputs": []
    },
    {
      "cell_type": "code",
      "execution_count": 8,
      "metadata": {
        "colab": {
          "base_uri": "https://localhost:8080/"
        },
        "id": "-kHpBnEU66nP",
        "outputId": "a429ad9f-fb80-467b-b1ec-839d13bbc74f"
      },
      "outputs": [
        {
          "output_type": "stream",
          "name": "stdout",
          "text": [
            "NaN values in train data: 0\n",
            "NaN values in test data: 0\n"
          ]
        }
      ],
      "source": [
        "print(f\"NaN values in train data: {train_df.isna().sum().sum()}\")\n",
        "print(f\"NaN values in test data: {test_df.isna().sum().sum()}\")"
      ]
    },
    {
      "cell_type": "code",
      "execution_count": 9,
      "metadata": {
        "colab": {
          "base_uri": "https://localhost:8080/"
        },
        "id": "XfXGFGa267f8",
        "outputId": "a22fbb96-852c-4d01-e5fc-52bd0fb8a968"
      },
      "outputs": [
        {
          "output_type": "stream",
          "name": "stdout",
          "text": [
            "[0. 1. 2. 3. 4.]\n",
            "[0. 1. 2. 3. 4.]\n"
          ]
        }
      ],
      "source": [
        "# Last column stores the labels\n",
        "print(train_df.iloc[:, -1].unique())\n",
        "print(test_df.iloc[:, -1].unique())"
      ]
    },
    {
      "cell_type": "code",
      "execution_count": 10,
      "metadata": {
        "colab": {
          "base_uri": "https://localhost:8080/",
          "height": 269
        },
        "id": "t2AMf2NH68y7",
        "outputId": "ccf5ccc4-554f-4e7a-96cd-53299cd1833a"
      },
      "outputs": [
        {
          "output_type": "execute_result",
          "data": {
            "text/plain": [
              "187\n",
              "0.0    72470\n",
              "4.0     6431\n",
              "2.0     5788\n",
              "1.0     2223\n",
              "3.0      641\n",
              "Name: count, dtype: int64"
            ],
            "text/html": [
              "<div>\n",
              "<style scoped>\n",
              "    .dataframe tbody tr th:only-of-type {\n",
              "        vertical-align: middle;\n",
              "    }\n",
              "\n",
              "    .dataframe tbody tr th {\n",
              "        vertical-align: top;\n",
              "    }\n",
              "\n",
              "    .dataframe thead th {\n",
              "        text-align: right;\n",
              "    }\n",
              "</style>\n",
              "<table border=\"1\" class=\"dataframe\">\n",
              "  <thead>\n",
              "    <tr style=\"text-align: right;\">\n",
              "      <th></th>\n",
              "      <th>count</th>\n",
              "    </tr>\n",
              "    <tr>\n",
              "      <th>187</th>\n",
              "      <th></th>\n",
              "    </tr>\n",
              "  </thead>\n",
              "  <tbody>\n",
              "    <tr>\n",
              "      <th>0.0</th>\n",
              "      <td>72470</td>\n",
              "    </tr>\n",
              "    <tr>\n",
              "      <th>4.0</th>\n",
              "      <td>6431</td>\n",
              "    </tr>\n",
              "    <tr>\n",
              "      <th>2.0</th>\n",
              "      <td>5788</td>\n",
              "    </tr>\n",
              "    <tr>\n",
              "      <th>1.0</th>\n",
              "      <td>2223</td>\n",
              "    </tr>\n",
              "    <tr>\n",
              "      <th>3.0</th>\n",
              "      <td>641</td>\n",
              "    </tr>\n",
              "  </tbody>\n",
              "</table>\n",
              "</div><br><label><b>dtype:</b> int64</label>"
            ]
          },
          "metadata": {},
          "execution_count": 10
        }
      ],
      "source": [
        "train_df.iloc[:, -1].value_counts()"
      ]
    },
    {
      "cell_type": "code",
      "execution_count": 11,
      "metadata": {
        "colab": {
          "base_uri": "https://localhost:8080/",
          "height": 269
        },
        "id": "ZXCEKoAe69Xi",
        "outputId": "1a38bb65-6891-4c32-cf88-046cbd9c6411"
      },
      "outputs": [
        {
          "output_type": "execute_result",
          "data": {
            "text/plain": [
              "187\n",
              "0.0    18117\n",
              "4.0     1608\n",
              "2.0     1448\n",
              "1.0      556\n",
              "3.0      162\n",
              "Name: count, dtype: int64"
            ],
            "text/html": [
              "<div>\n",
              "<style scoped>\n",
              "    .dataframe tbody tr th:only-of-type {\n",
              "        vertical-align: middle;\n",
              "    }\n",
              "\n",
              "    .dataframe tbody tr th {\n",
              "        vertical-align: top;\n",
              "    }\n",
              "\n",
              "    .dataframe thead th {\n",
              "        text-align: right;\n",
              "    }\n",
              "</style>\n",
              "<table border=\"1\" class=\"dataframe\">\n",
              "  <thead>\n",
              "    <tr style=\"text-align: right;\">\n",
              "      <th></th>\n",
              "      <th>count</th>\n",
              "    </tr>\n",
              "    <tr>\n",
              "      <th>187</th>\n",
              "      <th></th>\n",
              "    </tr>\n",
              "  </thead>\n",
              "  <tbody>\n",
              "    <tr>\n",
              "      <th>0.0</th>\n",
              "      <td>18117</td>\n",
              "    </tr>\n",
              "    <tr>\n",
              "      <th>4.0</th>\n",
              "      <td>1608</td>\n",
              "    </tr>\n",
              "    <tr>\n",
              "      <th>2.0</th>\n",
              "      <td>1448</td>\n",
              "    </tr>\n",
              "    <tr>\n",
              "      <th>1.0</th>\n",
              "      <td>556</td>\n",
              "    </tr>\n",
              "    <tr>\n",
              "      <th>3.0</th>\n",
              "      <td>162</td>\n",
              "    </tr>\n",
              "  </tbody>\n",
              "</table>\n",
              "</div><br><label><b>dtype:</b> int64</label>"
            ]
          },
          "metadata": {},
          "execution_count": 11
        }
      ],
      "source": [
        "test_df.iloc[:, -1].value_counts()"
      ]
    },
    {
      "cell_type": "markdown",
      "metadata": {
        "id": "2De2QdEBfz4d"
      },
      "source": [
        "From the counts of the classes, we can observe that the dataset is imbalanced, as class = 0 makes up a large proportion of the training (82.77%) and test data (82.76%). However, we will go ahead with training and evaluating for now and observe the results."
      ]
    },
    {
      "cell_type": "markdown",
      "metadata": {
        "id": "1hK1WquL6_eW"
      },
      "source": [
        "## Generating Training Data"
      ]
    },
    {
      "cell_type": "code",
      "execution_count": 12,
      "metadata": {
        "colab": {
          "base_uri": "https://localhost:8080/"
        },
        "id": "CaIeRuFq78OE",
        "outputId": "2e0fd84b-03ea-4241-ea88-3381887175fa"
      },
      "outputs": [
        {
          "output_type": "stream",
          "name": "stdout",
          "text": [
            "(70042, 188)\n",
            "(17511, 188)\n"
          ]
        }
      ],
      "source": [
        "df_train, df_val = train_test_split(train_df, test_size=0.2, random_state=0)\n",
        "print(df_train.shape)\n",
        "print(df_val.shape)"
      ]
    },
    {
      "cell_type": "code",
      "execution_count": 13,
      "metadata": {
        "id": "eX9FFhNI8N5L"
      },
      "outputs": [],
      "source": [
        "x_train = df_train.iloc[:, :-1]\n",
        "y_train = df_train.iloc[:, -1]\n",
        "\n",
        "x_val = df_val.iloc[:, :-1]\n",
        "y_val = df_val.iloc[:, -1]\n",
        "\n",
        "x_test = test_df.iloc[:, :-1]\n",
        "y_test = test_df.iloc[:, -1]\n",
        "\n",
        "x_train = torch.tensor(x_train.values, dtype=torch.float32)\n",
        "y_train = torch.tensor(y_train, dtype=torch.long)\n",
        "\n",
        "x_val = torch.tensor(x_val.values, dtype=torch.float32)\n",
        "y_val = torch.tensor(y_val.values, dtype=torch.long)\n",
        "\n",
        "x_test = torch.tensor(x_test.values, dtype=torch.float32)\n",
        "y_test = torch.tensor(y_test, dtype=torch.long)"
      ]
    },
    {
      "cell_type": "markdown",
      "metadata": {
        "id": "7SDIkVX07Ptl"
      },
      "source": [
        "## Hybrid CNN-RNN Model"
      ]
    },
    {
      "cell_type": "code",
      "execution_count": 46,
      "metadata": {
        "id": "R6s6ReER7HkT"
      },
      "outputs": [],
      "source": [
        "# Define the autoencoder\n",
        "class Autoencoder(nn.Module):\n",
        "    def __init__(self, input_dim, encoding_dim):\n",
        "        super(Autoencoder, self).__init__()\n",
        "        # Encoder\n",
        "        self.encoder = nn.Sequential(\n",
        "            nn.Linear(input_dim, 128),\n",
        "            nn.ReLU(),\n",
        "            nn.Linear(128, encoding_dim),\n",
        "            nn.ReLU()\n",
        "        )\n",
        "        # Decoder\n",
        "        self.decoder = nn.Sequential(\n",
        "            nn.Linear(encoding_dim, 128),\n",
        "            nn.ReLU(),\n",
        "            nn.Linear(128, input_dim),\n",
        "            nn.Sigmoid()\n",
        "        )\n",
        "\n",
        "    def forward(self, x):\n",
        "        encoded = self.encoder(x)\n",
        "        decoded = self.decoder(encoded)\n",
        "        return encoded, decoded\n",
        "\n",
        "# Define the classifier with a linear layer\n",
        "class Classifier(nn.Module):\n",
        "    def __init__(self, encoding_dim, num_classes):\n",
        "        super(Classifier, self).__init__()\n",
        "        self.classifier = nn.Linear(encoding_dim, num_classes)\n",
        "\n",
        "    def forward(self, x):\n",
        "        return self.classifier(x)\n",
        "\n",
        "# Classifier with MLP\n",
        "class ClassifierMLP(nn.Module):\n",
        "    def __init__(self, encoding_dim, num_classes):\n",
        "        super(ClassifierMLP, self).__init__()\n",
        "        self.classifier = nn.Sequential(\n",
        "            nn.Linear(encoding_dim, 128),\n",
        "            nn.BatchNorm1d(128),\n",
        "            nn.ReLU(),\n",
        "            nn.Dropout(0.3),\n",
        "            nn.Linear(128, 64),\n",
        "            nn.BatchNorm1d(64),\n",
        "            nn.ReLU(),\n",
        "            nn.Dropout(0.3),\n",
        "            nn.Linear(64, num_classes)\n",
        "        )\n",
        "\n",
        "    def forward(self, x):\n",
        "        return self.classifier(x)"
      ]
    },
    {
      "cell_type": "code",
      "execution_count": 47,
      "metadata": {
        "id": "vnaE8DyC7Tdf"
      },
      "outputs": [],
      "source": [
        "def train_autoencoder_loop(train_dataloader, autoencoder, loss_fn, optimizer):\n",
        "    autoencoder.train()\n",
        "    size = len(train_dataloader.dataset)\n",
        "    num_batches = len(train_dataloader)\n",
        "    train_loss = 0\n",
        "\n",
        "    for batch, (X, _) in enumerate(train_dataloader):  # No labels needed for reconstruction\n",
        "        # Move inputs to the same device as the model (GPU or CPU)\n",
        "        X = X.to(device)\n",
        "\n",
        "        # Forward pass: Encode and decode\n",
        "        _, reconstructed = autoencoder(X)\n",
        "        loss = loss_fn(reconstructed, X)  # Compute reconstruction loss\n",
        "\n",
        "        # Backpropagation\n",
        "        optimizer.zero_grad()\n",
        "        loss.backward()\n",
        "        torch.nn.utils.clip_grad_norm_(autoencoder.parameters(), max_norm=1.0)\n",
        "        optimizer.step()\n",
        "\n",
        "        train_loss += loss.item()\n",
        "\n",
        "    train_loss /= num_batches\n",
        "    return train_loss\n",
        "\n",
        "def test_autoencoder_loop(test_dataloader, autoencoder, loss_fn):\n",
        "    autoencoder.eval()\n",
        "    size = len(test_dataloader.dataset)\n",
        "    num_batches = len(test_dataloader)\n",
        "    test_loss = 0\n",
        "\n",
        "    with torch.no_grad():\n",
        "        for X, _ in test_dataloader:\n",
        "            X = X.to(device)\n",
        "\n",
        "            # Forward pass: Encode and decode\n",
        "            _, reconstructed = autoencoder(X)\n",
        "            test_loss += loss_fn(reconstructed, X).item()  # Compute reconstruction loss\n",
        "\n",
        "    test_loss /= num_batches\n",
        "    return test_loss"
      ]
    },
    {
      "cell_type": "code",
      "source": [
        "def train_classifier_loop(train_dataloader, encoder, classifier, loss_fn, optimizer):\n",
        "    encoder.eval()  # Freeze the encoder during classifier training\n",
        "    classifier.train()\n",
        "    size = len(train_dataloader.dataset)\n",
        "    num_batches = len(train_dataloader)\n",
        "    train_loss, train_correct = 0, 0\n",
        "\n",
        "    for batch, (X, y) in enumerate(train_dataloader):\n",
        "        X, y = X.to(device), y.to(device)\n",
        "\n",
        "        # Extract features from the encoder\n",
        "        with torch.no_grad():\n",
        "            features = encoder(X)\n",
        "\n",
        "        # Forward pass through the classifier\n",
        "        outputs = classifier(features)\n",
        "        loss = loss_fn(outputs, y)\n",
        "\n",
        "        # Backpropagation\n",
        "        optimizer.zero_grad()\n",
        "        loss.backward()\n",
        "        torch.nn.utils.clip_grad_norm_(classifier.parameters(), max_norm=1.0)\n",
        "        optimizer.step()\n",
        "\n",
        "        train_loss += loss.item()\n",
        "        _, predicted = torch.max(outputs, 1)\n",
        "        train_correct += (predicted == y).sum().item()\n",
        "\n",
        "    train_loss /= num_batches\n",
        "    train_correct /= size\n",
        "    return train_loss, train_correct\n",
        "\n",
        "def test_classifier_loop(test_dataloader, encoder, classifier, loss_fn):\n",
        "    encoder.eval()\n",
        "    classifier.eval()\n",
        "    size = len(test_dataloader.dataset)\n",
        "    num_batches = len(test_dataloader)\n",
        "    test_loss, test_correct = 0, 0\n",
        "\n",
        "    all_preds = []\n",
        "    all_labels = []\n",
        "\n",
        "    with torch.no_grad():\n",
        "        for X, y in test_dataloader:\n",
        "            X, y = X.to(device), y.to(device)\n",
        "\n",
        "            # Extract features using the encoder\n",
        "            features = encoder(X)\n",
        "\n",
        "            # Forward pass through the classifier\n",
        "            outputs = classifier(features)\n",
        "            test_loss += loss_fn(outputs, y).item()\n",
        "\n",
        "            _, predicted = torch.max(outputs, 1)\n",
        "            test_correct += (predicted == y).sum().item()\n",
        "\n",
        "            all_preds.extend(predicted.cpu().numpy())\n",
        "            all_labels.extend(y.cpu().numpy())\n",
        "\n",
        "    test_loss /= num_batches\n",
        "    test_correct /= size\n",
        "    return test_loss, test_correct, np.array(all_preds), np.array(all_labels)"
      ],
      "metadata": {
        "id": "_jDLjH9wpEcP"
      },
      "execution_count": 48,
      "outputs": []
    },
    {
      "cell_type": "code",
      "execution_count": 49,
      "metadata": {
        "id": "F67p_Kil7bbV"
      },
      "outputs": [],
      "source": [
        "class EarlyStopper:\n",
        "  def __init__(self, patience=3, min_delta=0):\n",
        "    self.patience = patience\n",
        "    self.min_delta = min_delta\n",
        "    self.counter = 0\n",
        "    self.min_validation_loss = np.inf\n",
        "\n",
        "  def early_stop(self, validation_loss):\n",
        "    if validation_loss < self.min_validation_loss:\n",
        "      self.min_validation_loss = validation_loss\n",
        "      self.counter = 0\n",
        "    elif validation_loss > (self.min_validation_loss + self.min_delta):\n",
        "      self.counter += 1\n",
        "      if self.counter >= self.patience:\n",
        "        return True\n",
        "    return False"
      ]
    },
    {
      "cell_type": "markdown",
      "metadata": {
        "id": "R8Sjh7tyhzWx"
      },
      "source": [
        "## Training & Evaluation of Model"
      ]
    },
    {
      "cell_type": "code",
      "execution_count": 55,
      "metadata": {
        "id": "5ME7-xJX7daI"
      },
      "outputs": [],
      "source": [
        "input_dim = 187\n",
        "encoding_dim = 128\n",
        "num_classes = 5\n",
        "\n",
        "patience = 3\n",
        "no_epochs = 100\n",
        "batch_size = 64\n",
        "lr = 0.001"
      ]
    },
    {
      "cell_type": "code",
      "execution_count": 56,
      "metadata": {
        "id": "YhFyS85z7e9F"
      },
      "outputs": [],
      "source": [
        "# Define the autoencoder training function\n",
        "def train_autoencoder(autoencoder, x_train, y_train, x_test, y_test, num_epochs=20, learning_rate=0.001):\n",
        "    loss_fn = nn.MSELoss()\n",
        "    optimizer = optim.Adam(autoencoder.parameters(), lr=learning_rate)\n",
        "    early_stopper = EarlyStopper(patience=patience, min_delta=0)\n",
        "\n",
        "    # Convert data to TensorDataset for DataLoader\n",
        "    train_dataset = TensorDataset(x_train, y_train)\n",
        "    test_dataset = TensorDataset(x_test, y_test)\n",
        "\n",
        "    # Loaders for batching\n",
        "    train_loader = DataLoader(dataset=train_dataset, batch_size=batch_size, shuffle=True)\n",
        "    test_loader = DataLoader(dataset=test_dataset, batch_size=batch_size, shuffle=False)\n",
        "\n",
        "    for epoch in range(num_epochs):\n",
        "        # Train on the training dataset\n",
        "        train_loss = train_autoencoder_loop(train_loader, autoencoder, loss_fn, optimizer)\n",
        "\n",
        "        # Evaluate on the test dataset\n",
        "        test_loss = test_autoencoder_loop(test_loader, autoencoder, loss_fn)\n",
        "\n",
        "        print(f\"Epoch [{epoch+1}/{num_epochs}], Train Loss: {train_loss:>8f}, Val Loss: {test_loss:>8f}\")\n",
        "\n",
        "        if early_stopper.early_stop(test_loss):\n",
        "          print('Done')\n",
        "          break\n",
        "\n",
        "# Define the classifier training function\n",
        "def train_classifier(encoder, classifier, x_train, y_train, x_test, y_test, num_epochs=20, learning_rate=0.001):\n",
        "    loss_fn = nn.CrossEntropyLoss()\n",
        "    optimizer = optim.Adam(classifier.parameters(), lr=learning_rate)\n",
        "    early_stopper = EarlyStopper(patience=patience, min_delta=0)\n",
        "\n",
        "    # Convert data to TensorDataset for DataLoader\n",
        "    train_dataset = TensorDataset(x_train, y_train)\n",
        "    test_dataset = TensorDataset(x_test, y_test)\n",
        "\n",
        "    # Loaders for batching\n",
        "    train_loader = DataLoader(dataset=train_dataset, batch_size=batch_size, shuffle=True)\n",
        "    test_loader = DataLoader(dataset=test_dataset, batch_size=batch_size, shuffle=False)\n",
        "\n",
        "    for epoch in range(num_epochs):\n",
        "        # Train on the training dataset\n",
        "        train_loss, train_accuracy = train_classifier_loop(train_loader, encoder, classifier, loss_fn, optimizer)\n",
        "\n",
        "        # Evaluate on the test dataset\n",
        "        test_loss, test_accuracy, _, _ = test_classifier_loop(test_loader, encoder, classifier, loss_fn)\n",
        "\n",
        "        print(f\"Epoch [{epoch+1}/{num_epochs}],  Train Acc: {train_accuracy*100:.2f}%, Train Loss: {train_loss:>8f}, \"\n",
        "              f\"Val Acc: {test_accuracy*100:.2f}%, Val Loss: {test_loss:>8f}\")\n",
        "\n",
        "        if early_stopper.early_stop(test_loss):\n",
        "          print('Done')\n",
        "          break"
      ]
    },
    {
      "cell_type": "code",
      "source": [
        "# Model initialization\n",
        "autoencoder = Autoencoder(input_dim=input_dim, encoding_dim=encoding_dim).to(device)\n",
        "autoencoder"
      ],
      "metadata": {
        "colab": {
          "base_uri": "https://localhost:8080/"
        },
        "id": "f98PFYSzy0n-",
        "outputId": "33b02640-b34c-4484-a2b3-41a78d8d0f7c"
      },
      "execution_count": 57,
      "outputs": [
        {
          "output_type": "execute_result",
          "data": {
            "text/plain": [
              "Autoencoder(\n",
              "  (encoder): Sequential(\n",
              "    (0): Linear(in_features=187, out_features=128, bias=True)\n",
              "    (1): ReLU()\n",
              "    (2): Linear(in_features=128, out_features=128, bias=True)\n",
              "    (3): ReLU()\n",
              "  )\n",
              "  (decoder): Sequential(\n",
              "    (0): Linear(in_features=128, out_features=128, bias=True)\n",
              "    (1): ReLU()\n",
              "    (2): Linear(in_features=128, out_features=187, bias=True)\n",
              "    (3): Sigmoid()\n",
              "  )\n",
              ")"
            ]
          },
          "metadata": {},
          "execution_count": 57
        }
      ]
    },
    {
      "cell_type": "code",
      "source": [
        "# Model initialization\n",
        "classifier = Classifier(encoding_dim=encoding_dim, num_classes=num_classes).to(device)\n",
        "classifier"
      ],
      "metadata": {
        "colab": {
          "base_uri": "https://localhost:8080/"
        },
        "id": "xRWv6e6rzJdz",
        "outputId": "a8c5eed9-7d07-424a-aba4-21b7564b828c"
      },
      "execution_count": 58,
      "outputs": [
        {
          "output_type": "execute_result",
          "data": {
            "text/plain": [
              "Classifier(\n",
              "  (classifier): Linear(in_features=128, out_features=5, bias=True)\n",
              ")"
            ]
          },
          "metadata": {},
          "execution_count": 58
        }
      ]
    },
    {
      "cell_type": "code",
      "execution_count": 59,
      "metadata": {
        "colab": {
          "base_uri": "https://localhost:8080/"
        },
        "id": "vHRsW7-y7jRW",
        "outputId": "c4a0c44e-d29f-421c-a3fc-9f4f55a8374a"
      },
      "outputs": [
        {
          "output_type": "stream",
          "name": "stdout",
          "text": [
            "Training Autoencoder\n",
            "Epoch [1/100], Train Loss: 0.012058, Val Loss: 0.004243\n",
            "Epoch [2/100], Train Loss: 0.003077, Val Loss: 0.002330\n",
            "Epoch [3/100], Train Loss: 0.001944, Val Loss: 0.001667\n",
            "Epoch [4/100], Train Loss: 0.001485, Val Loss: 0.001322\n",
            "Epoch [5/100], Train Loss: 0.001231, Val Loss: 0.001196\n",
            "Epoch [6/100], Train Loss: 0.001077, Val Loss: 0.001022\n",
            "Epoch [7/100], Train Loss: 0.000964, Val Loss: 0.000950\n",
            "Epoch [8/100], Train Loss: 0.000872, Val Loss: 0.000828\n",
            "Epoch [9/100], Train Loss: 0.000810, Val Loss: 0.000830\n",
            "Epoch [10/100], Train Loss: 0.000761, Val Loss: 0.000766\n",
            "Epoch [11/100], Train Loss: 0.000719, Val Loss: 0.000714\n",
            "Epoch [12/100], Train Loss: 0.000681, Val Loss: 0.000659\n",
            "Epoch [13/100], Train Loss: 0.000651, Val Loss: 0.000669\n",
            "Epoch [14/100], Train Loss: 0.000629, Val Loss: 0.000625\n",
            "Epoch [15/100], Train Loss: 0.000606, Val Loss: 0.000602\n",
            "Epoch [16/100], Train Loss: 0.000585, Val Loss: 0.000570\n",
            "Epoch [17/100], Train Loss: 0.000568, Val Loss: 0.000560\n",
            "Epoch [18/100], Train Loss: 0.000552, Val Loss: 0.000536\n",
            "Epoch [19/100], Train Loss: 0.000536, Val Loss: 0.000548\n",
            "Epoch [20/100], Train Loss: 0.000522, Val Loss: 0.000543\n",
            "Epoch [21/100], Train Loss: 0.000509, Val Loss: 0.000503\n",
            "Epoch [22/100], Train Loss: 0.000500, Val Loss: 0.000498\n",
            "Epoch [23/100], Train Loss: 0.000490, Val Loss: 0.000490\n",
            "Epoch [24/100], Train Loss: 0.000477, Val Loss: 0.000489\n",
            "Epoch [25/100], Train Loss: 0.000469, Val Loss: 0.000479\n",
            "Epoch [26/100], Train Loss: 0.000461, Val Loss: 0.000481\n",
            "Epoch [27/100], Train Loss: 0.000455, Val Loss: 0.000468\n",
            "Epoch [28/100], Train Loss: 0.000444, Val Loss: 0.000449\n",
            "Epoch [29/100], Train Loss: 0.000436, Val Loss: 0.000455\n",
            "Epoch [30/100], Train Loss: 0.000431, Val Loss: 0.000449\n",
            "Epoch [31/100], Train Loss: 0.000423, Val Loss: 0.000431\n",
            "Epoch [32/100], Train Loss: 0.000417, Val Loss: 0.000467\n",
            "Epoch [33/100], Train Loss: 0.000413, Val Loss: 0.000449\n",
            "Epoch [34/100], Train Loss: 0.000406, Val Loss: 0.000397\n",
            "Epoch [35/100], Train Loss: 0.000400, Val Loss: 0.000395\n",
            "Epoch [36/100], Train Loss: 0.000397, Val Loss: 0.000399\n",
            "Epoch [37/100], Train Loss: 0.000391, Val Loss: 0.000530\n",
            "Epoch [38/100], Train Loss: 0.000386, Val Loss: 0.000385\n",
            "Epoch [39/100], Train Loss: 0.000384, Val Loss: 0.000397\n",
            "Epoch [40/100], Train Loss: 0.000379, Val Loss: 0.000391\n",
            "Epoch [41/100], Train Loss: 0.000373, Val Loss: 0.000378\n",
            "Epoch [42/100], Train Loss: 0.000370, Val Loss: 0.000381\n",
            "Epoch [43/100], Train Loss: 0.000366, Val Loss: 0.000414\n",
            "Epoch [44/100], Train Loss: 0.000363, Val Loss: 0.000371\n",
            "Epoch [45/100], Train Loss: 0.000360, Val Loss: 0.000364\n",
            "Epoch [46/100], Train Loss: 0.000356, Val Loss: 0.000370\n",
            "Epoch [47/100], Train Loss: 0.000354, Val Loss: 0.000362\n",
            "Epoch [48/100], Train Loss: 0.000350, Val Loss: 0.000355\n",
            "Epoch [49/100], Train Loss: 0.000346, Val Loss: 0.000347\n",
            "Epoch [50/100], Train Loss: 0.000345, Val Loss: 0.000348\n",
            "Epoch [51/100], Train Loss: 0.000341, Val Loss: 0.000353\n",
            "Epoch [52/100], Train Loss: 0.000339, Val Loss: 0.000356\n",
            "Done\n",
            "Training Single Linear Layer Classifier with encoder from trained autoencoder\n",
            "Epoch [1/100],  Train Acc: 86.85%, Train Loss: 0.435176, Val Acc: 89.52%, Val Loss: 0.348991\n",
            "Epoch [2/100],  Train Acc: 89.84%, Train Loss: 0.330511, Val Acc: 90.34%, Val Loss: 0.315897\n",
            "Epoch [3/100],  Train Acc: 90.63%, Train Loss: 0.304555, Val Acc: 91.09%, Val Loss: 0.293414\n",
            "Epoch [4/100],  Train Acc: 91.19%, Train Loss: 0.289759, Val Acc: 91.56%, Val Loss: 0.281237\n",
            "Epoch [5/100],  Train Acc: 91.65%, Train Loss: 0.279819, Val Acc: 92.13%, Val Loss: 0.273686\n",
            "Epoch [6/100],  Train Acc: 91.97%, Train Loss: 0.273510, Val Acc: 92.42%, Val Loss: 0.268938\n",
            "Epoch [7/100],  Train Acc: 92.23%, Train Loss: 0.267519, Val Acc: 92.40%, Val Loss: 0.262522\n",
            "Epoch [8/100],  Train Acc: 92.44%, Train Loss: 0.264259, Val Acc: 92.68%, Val Loss: 0.261477\n",
            "Epoch [9/100],  Train Acc: 92.59%, Train Loss: 0.261624, Val Acc: 92.79%, Val Loss: 0.257149\n",
            "Epoch [10/100],  Train Acc: 92.74%, Train Loss: 0.258309, Val Acc: 92.45%, Val Loss: 0.256311\n",
            "Epoch [11/100],  Train Acc: 92.79%, Train Loss: 0.256883, Val Acc: 93.02%, Val Loss: 0.255559\n",
            "Epoch [12/100],  Train Acc: 92.95%, Train Loss: 0.254752, Val Acc: 92.91%, Val Loss: 0.250756\n",
            "Epoch [13/100],  Train Acc: 93.02%, Train Loss: 0.253465, Val Acc: 92.87%, Val Loss: 0.250175\n",
            "Epoch [14/100],  Train Acc: 93.04%, Train Loss: 0.251707, Val Acc: 92.71%, Val Loss: 0.249990\n",
            "Epoch [15/100],  Train Acc: 93.18%, Train Loss: 0.250355, Val Acc: 92.38%, Val Loss: 0.251818\n",
            "Epoch [16/100],  Train Acc: 93.22%, Train Loss: 0.249247, Val Acc: 93.03%, Val Loss: 0.246077\n",
            "Epoch [17/100],  Train Acc: 93.22%, Train Loss: 0.248177, Val Acc: 93.00%, Val Loss: 0.246615\n",
            "Epoch [18/100],  Train Acc: 93.29%, Train Loss: 0.248014, Val Acc: 93.03%, Val Loss: 0.244733\n",
            "Epoch [19/100],  Train Acc: 93.30%, Train Loss: 0.246497, Val Acc: 93.33%, Val Loss: 0.246641\n",
            "Epoch [20/100],  Train Acc: 93.29%, Train Loss: 0.245970, Val Acc: 92.83%, Val Loss: 0.245898\n",
            "Epoch [21/100],  Train Acc: 93.37%, Train Loss: 0.245403, Val Acc: 93.41%, Val Loss: 0.242082\n",
            "Epoch [22/100],  Train Acc: 93.35%, Train Loss: 0.244368, Val Acc: 93.05%, Val Loss: 0.242576\n",
            "Epoch [23/100],  Train Acc: 93.42%, Train Loss: 0.243587, Val Acc: 93.40%, Val Loss: 0.245499\n",
            "Epoch [24/100],  Train Acc: 93.47%, Train Loss: 0.242882, Val Acc: 93.30%, Val Loss: 0.242213\n",
            "Done\n"
          ]
        }
      ],
      "source": [
        "# Train the autoencoder\n",
        "print(\"Training Autoencoder\")\n",
        "train_autoencoder(autoencoder, x_train, y_train, x_val, y_val, num_epochs=no_epochs, learning_rate=lr)\n",
        "\n",
        "# Train the classifier (using the encoder from the trained autoencoder)\n",
        "print(\"Training Single Linear Layer Classifier with encoder from trained autoencoder\")\n",
        "train_classifier(autoencoder.encoder, classifier, x_train, y_train, x_val, y_val, num_epochs=no_epochs, learning_rate=lr)"
      ]
    },
    {
      "cell_type": "code",
      "execution_count": 60,
      "metadata": {
        "id": "--p6Omk4T5Iz",
        "colab": {
          "base_uri": "https://localhost:8080/"
        },
        "outputId": "dc83ab51-ccfd-48ad-807b-942b4210bf34"
      },
      "outputs": [
        {
          "output_type": "stream",
          "name": "stdout",
          "text": [
            "Single Linear Layer Classifier:\n",
            "Test accuracy: 93.25%, Test loss: 0.252659\n"
          ]
        }
      ],
      "source": [
        "loss_fn = nn.CrossEntropyLoss()\n",
        "\n",
        "# Convert data to TensorDataset for DataLoader\n",
        "test_dataset = TensorDataset(x_test, y_test)\n",
        "\n",
        "# Loaders for batching\n",
        "test_loader = DataLoader(dataset=test_dataset, batch_size=batch_size, shuffle=False)\n",
        "\n",
        "test_loss, test_accuracy, all_preds, all_labels = test_classifier_loop(test_loader, autoencoder.encoder, classifier, loss_fn)\n",
        "print(\"Single Linear Layer Classifier:\")\n",
        "print(f\"Test accuracy: {(100*test_accuracy):>0.2f}%, Test loss: {test_loss:>8f}\")"
      ]
    },
    {
      "cell_type": "markdown",
      "metadata": {
        "id": "4Yn0TWREgpoW"
      },
      "source": [
        "We can observe that the accuracy on the test set is very good. However, as we found earlier, the dataset is imbalanced, which may mean that the accuracy could be misleading and not reflect actual performance of the predictions for all classes."
      ]
    },
    {
      "cell_type": "code",
      "execution_count": 61,
      "metadata": {
        "id": "5uY8DrYAfUlA",
        "colab": {
          "base_uri": "https://localhost:8080/",
          "height": 472
        },
        "outputId": "6e9bff01-5198-4c5a-b733-92ea86449647"
      },
      "outputs": [
        {
          "output_type": "display_data",
          "data": {
            "text/plain": [
              "<Figure size 640x480 with 2 Axes>"
            ],
            "image/png": "[encoded data removed]"
          },
          "metadata": {}
        }
      ],
      "source": [
        "actual_labels = y_test.tolist()\n",
        "\n",
        "class_labels = [\"N\", \"S\", \"V\", \"F\", \"Q\"]\n",
        "\n",
        "cm = confusion_matrix(all_labels, all_preds, labels=[0,1,2,3,4])\n",
        "\n",
        "cm_normalized = cm.astype('float') / cm.sum(axis=1)[:, np.newaxis]\n",
        "\n",
        "disp = ConfusionMatrixDisplay(confusion_matrix=cm_normalized, display_labels=class_labels)\n",
        "disp.plot(cmap=plt.cm.Blues, values_format=\".5f\")\n",
        "\n",
        "plt.title(\"Confusion Matrix\")\n",
        "plt.ylabel('Actual')\n",
        "plt.xlabel('Predicted')\n",
        "plt.show()"
      ]
    },
    {
      "cell_type": "code",
      "source": [
        "report = classification_report(all_labels, all_preds, target_names=class_labels)\n",
        "print(report)"
      ],
      "metadata": {
        "colab": {
          "base_uri": "https://localhost:8080/"
        },
        "id": "CVoMcMQ7zawX",
        "outputId": "89ea56a3-3cd5-401b-a6c8-d88ab2b21fd3"
      },
      "execution_count": 62,
      "outputs": [
        {
          "output_type": "stream",
          "name": "stdout",
          "text": [
            "              precision    recall  f1-score   support\n",
            "\n",
            "           N       0.94      0.99      0.96     18117\n",
            "           S       0.91      0.34      0.50       556\n",
            "           V       0.77      0.62      0.69      1448\n",
            "           F       0.57      0.30      0.39       162\n",
            "           Q       0.97      0.87      0.92      1608\n",
            "\n",
            "    accuracy                           0.93     21891\n",
            "   macro avg       0.83      0.62      0.69     21891\n",
            "weighted avg       0.93      0.93      0.93     21891\n",
            "\n"
          ]
        }
      ]
    },
    {
      "cell_type": "code",
      "source": [
        "autoencoder1 = Autoencoder(input_dim=input_dim, encoding_dim=encoding_dim).to(device)\n",
        "autoencoder1"
      ],
      "metadata": {
        "colab": {
          "base_uri": "https://localhost:8080/"
        },
        "id": "OKOdHizQNVch",
        "outputId": "0af64a7f-95a2-4788-f96d-2cb71cd13166"
      },
      "execution_count": 63,
      "outputs": [
        {
          "output_type": "execute_result",
          "data": {
            "text/plain": [
              "Autoencoder(\n",
              "  (encoder): Sequential(\n",
              "    (0): Linear(in_features=187, out_features=128, bias=True)\n",
              "    (1): ReLU()\n",
              "    (2): Linear(in_features=128, out_features=128, bias=True)\n",
              "    (3): ReLU()\n",
              "  )\n",
              "  (decoder): Sequential(\n",
              "    (0): Linear(in_features=128, out_features=128, bias=True)\n",
              "    (1): ReLU()\n",
              "    (2): Linear(in_features=128, out_features=187, bias=True)\n",
              "    (3): Sigmoid()\n",
              "  )\n",
              ")"
            ]
          },
          "metadata": {},
          "execution_count": 63
        }
      ]
    },
    {
      "cell_type": "code",
      "source": [
        "classifierMLP = ClassifierMLP(encoding_dim=encoding_dim, num_classes=num_classes).to(device)\n",
        "classifierMLP"
      ],
      "metadata": {
        "colab": {
          "base_uri": "https://localhost:8080/"
        },
        "id": "oIETH2rNNVRU",
        "outputId": "d3d67199-2061-4f40-bd8b-129a5824258a"
      },
      "execution_count": 64,
      "outputs": [
        {
          "output_type": "execute_result",
          "data": {
            "text/plain": [
              "ClassifierMLP(\n",
              "  (classifier): Sequential(\n",
              "    (0): Linear(in_features=128, out_features=128, bias=True)\n",
              "    (1): BatchNorm1d(128, eps=1e-05, momentum=0.1, affine=True, track_running_stats=True)\n",
              "    (2): ReLU()\n",
              "    (3): Dropout(p=0.3, inplace=False)\n",
              "    (4): Linear(in_features=128, out_features=64, bias=True)\n",
              "    (5): BatchNorm1d(64, eps=1e-05, momentum=0.1, affine=True, track_running_stats=True)\n",
              "    (6): ReLU()\n",
              "    (7): Dropout(p=0.3, inplace=False)\n",
              "    (8): Linear(in_features=64, out_features=5, bias=True)\n",
              "  )\n",
              ")"
            ]
          },
          "metadata": {},
          "execution_count": 64
        }
      ]
    },
    {
      "cell_type": "code",
      "source": [
        "# Train the autoencoder\n",
        "print(\"Training Autoencoder\")\n",
        "train_autoencoder(autoencoder1, x_train, y_train, x_val, y_val, num_epochs=no_epochs, learning_rate=lr)"
      ],
      "metadata": {
        "colab": {
          "base_uri": "https://localhost:8080/"
        },
        "id": "460S9AinNSV1",
        "outputId": "84fa33da-296a-4d11-93bb-226cd9e68446"
      },
      "execution_count": 65,
      "outputs": [
        {
          "output_type": "stream",
          "name": "stdout",
          "text": [
            "Training Autoencoder\n",
            "Epoch [1/100], Train Loss: 0.012630, Val Loss: 0.004324\n",
            "Epoch [2/100], Train Loss: 0.003184, Val Loss: 0.002551\n",
            "Epoch [3/100], Train Loss: 0.002039, Val Loss: 0.001796\n",
            "Epoch [4/100], Train Loss: 0.001550, Val Loss: 0.001399\n",
            "Epoch [5/100], Train Loss: 0.001264, Val Loss: 0.001186\n",
            "Epoch [6/100], Train Loss: 0.001106, Val Loss: 0.001011\n",
            "Epoch [7/100], Train Loss: 0.000971, Val Loss: 0.000951\n",
            "Epoch [8/100], Train Loss: 0.000878, Val Loss: 0.000848\n",
            "Epoch [9/100], Train Loss: 0.000810, Val Loss: 0.000782\n",
            "Epoch [10/100], Train Loss: 0.000756, Val Loss: 0.000733\n",
            "Epoch [11/100], Train Loss: 0.000717, Val Loss: 0.000715\n",
            "Epoch [12/100], Train Loss: 0.000679, Val Loss: 0.000669\n",
            "Epoch [13/100], Train Loss: 0.000652, Val Loss: 0.000647\n",
            "Epoch [14/100], Train Loss: 0.000623, Val Loss: 0.000616\n",
            "Epoch [15/100], Train Loss: 0.000600, Val Loss: 0.000658\n",
            "Epoch [16/100], Train Loss: 0.000578, Val Loss: 0.000596\n",
            "Epoch [17/100], Train Loss: 0.000557, Val Loss: 0.000597\n",
            "Epoch [18/100], Train Loss: 0.000544, Val Loss: 0.000540\n",
            "Epoch [19/100], Train Loss: 0.000527, Val Loss: 0.000552\n",
            "Epoch [20/100], Train Loss: 0.000519, Val Loss: 0.000512\n",
            "Epoch [21/100], Train Loss: 0.000503, Val Loss: 0.000490\n",
            "Epoch [22/100], Train Loss: 0.000491, Val Loss: 0.000524\n",
            "Epoch [23/100], Train Loss: 0.000481, Val Loss: 0.000510\n",
            "Epoch [24/100], Train Loss: 0.000471, Val Loss: 0.000473\n",
            "Epoch [25/100], Train Loss: 0.000466, Val Loss: 0.000464\n",
            "Epoch [26/100], Train Loss: 0.000454, Val Loss: 0.000485\n",
            "Epoch [27/100], Train Loss: 0.000446, Val Loss: 0.000442\n",
            "Epoch [28/100], Train Loss: 0.000442, Val Loss: 0.000464\n",
            "Epoch [29/100], Train Loss: 0.000434, Val Loss: 0.000459\n",
            "Epoch [30/100], Train Loss: 0.000428, Val Loss: 0.000441\n",
            "Epoch [31/100], Train Loss: 0.000423, Val Loss: 0.000443\n",
            "Epoch [32/100], Train Loss: 0.000415, Val Loss: 0.000427\n",
            "Epoch [33/100], Train Loss: 0.000412, Val Loss: 0.000416\n",
            "Epoch [34/100], Train Loss: 0.000406, Val Loss: 0.000410\n",
            "Epoch [35/100], Train Loss: 0.000401, Val Loss: 0.000405\n",
            "Epoch [36/100], Train Loss: 0.000396, Val Loss: 0.000400\n",
            "Epoch [37/100], Train Loss: 0.000390, Val Loss: 0.000394\n",
            "Epoch [38/100], Train Loss: 0.000385, Val Loss: 0.000386\n",
            "Epoch [39/100], Train Loss: 0.000383, Val Loss: 0.000397\n",
            "Epoch [40/100], Train Loss: 0.000380, Val Loss: 0.000394\n",
            "Epoch [41/100], Train Loss: 0.000374, Val Loss: 0.000389\n",
            "Done\n"
          ]
        }
      ]
    },
    {
      "cell_type": "code",
      "source": [
        "# Train the MLP classifier\n",
        "print(\"Training MLP Classifier with encoder from trained autoencoder\")\n",
        "train_classifier(autoencoder1.encoder, classifierMLP, x_train, y_train, x_val, y_val, num_epochs=no_epochs, learning_rate=lr)"
      ],
      "metadata": {
        "colab": {
          "base_uri": "https://localhost:8080/"
        },
        "id": "JsAVvzMpNRuB",
        "outputId": "f3d482c0-f38f-40ac-9a50-cf8193cc935b"
      },
      "execution_count": 66,
      "outputs": [
        {
          "output_type": "stream",
          "name": "stdout",
          "text": [
            "Training MLP Classifier with encoder from trained autoencoder\n",
            "Epoch [1/100],  Train Acc: 91.99%, Train Loss: 0.283008, Val Acc: 96.03%, Val Loss: 0.149835\n",
            "Epoch [2/100],  Train Acc: 95.16%, Train Loss: 0.172813, Val Acc: 96.61%, Val Loss: 0.126039\n",
            "Epoch [3/100],  Train Acc: 95.75%, Train Loss: 0.150669, Val Acc: 96.66%, Val Loss: 0.115045\n",
            "Epoch [4/100],  Train Acc: 96.09%, Train Loss: 0.139896, Val Acc: 96.77%, Val Loss: 0.113425\n",
            "Epoch [5/100],  Train Acc: 96.19%, Train Loss: 0.132876, Val Acc: 97.10%, Val Loss: 0.101662\n",
            "Epoch [6/100],  Train Acc: 96.39%, Train Loss: 0.127066, Val Acc: 97.13%, Val Loss: 0.098536\n",
            "Epoch [7/100],  Train Acc: 96.65%, Train Loss: 0.120253, Val Acc: 97.04%, Val Loss: 0.100734\n",
            "Epoch [8/100],  Train Acc: 96.69%, Train Loss: 0.117967, Val Acc: 97.26%, Val Loss: 0.093218\n",
            "Epoch [9/100],  Train Acc: 96.70%, Train Loss: 0.114613, Val Acc: 97.30%, Val Loss: 0.092729\n",
            "Epoch [10/100],  Train Acc: 96.91%, Train Loss: 0.110368, Val Acc: 97.36%, Val Loss: 0.091359\n",
            "Epoch [11/100],  Train Acc: 96.80%, Train Loss: 0.110410, Val Acc: 97.41%, Val Loss: 0.093779\n",
            "Epoch [12/100],  Train Acc: 96.88%, Train Loss: 0.107746, Val Acc: 97.49%, Val Loss: 0.085991\n",
            "Epoch [13/100],  Train Acc: 96.93%, Train Loss: 0.106109, Val Acc: 97.43%, Val Loss: 0.088479\n",
            "Epoch [14/100],  Train Acc: 97.01%, Train Loss: 0.104477, Val Acc: 97.36%, Val Loss: 0.091162\n",
            "Epoch [15/100],  Train Acc: 97.02%, Train Loss: 0.104008, Val Acc: 97.36%, Val Loss: 0.088210\n",
            "Done\n"
          ]
        }
      ]
    },
    {
      "cell_type": "code",
      "source": [
        "test_loss_mlp, test_accuracy_mlp, all_preds_mlp, all_labels_mlp = test_classifier_loop(test_loader, autoencoder1.encoder, classifierMLP, loss_fn)\n",
        "print(\"MLPClassifier:\")\n",
        "print(f\"Test accuracy: {(100*test_accuracy_mlp):>0.2f}%, Test loss: {test_loss_mlp:>8f}\")"
      ],
      "metadata": {
        "colab": {
          "base_uri": "https://localhost:8080/"
        },
        "id": "0kaa-QLXKezU",
        "outputId": "22c0bc40-0e3d-44f3-a207-2933e4a252c5"
      },
      "execution_count": 67,
      "outputs": [
        {
          "output_type": "stream",
          "name": "stdout",
          "text": [
            "MLPClassifier:\n",
            "Test accuracy: 97.34%, Test loss: 0.092593\n"
          ]
        }
      ]
    },
    {
      "cell_type": "code",
      "source": [
        "report = classification_report(all_labels_mlp, all_preds_mlp, target_names=class_labels)\n",
        "print(report)"
      ],
      "metadata": {
        "colab": {
          "base_uri": "https://localhost:8080/"
        },
        "id": "Ft4rua_oKZgk",
        "outputId": "777b5e86-1809-4703-b258-22b20be6c6f2"
      },
      "execution_count": 68,
      "outputs": [
        {
          "output_type": "stream",
          "name": "stdout",
          "text": [
            "              precision    recall  f1-score   support\n",
            "\n",
            "           N       0.98      0.99      0.99     18117\n",
            "           S       0.89      0.62      0.73       556\n",
            "           V       0.93      0.91      0.92      1448\n",
            "           F       0.88      0.49      0.63       162\n",
            "           Q       0.99      0.97      0.98      1608\n",
            "\n",
            "    accuracy                           0.97     21891\n",
            "   macro avg       0.93      0.80      0.85     21891\n",
            "weighted avg       0.97      0.97      0.97     21891\n",
            "\n"
          ]
        }
      ]
    }
  ],
  "metadata": {
    "accelerator": "GPU",
    "colab": {
      "gpuType": "T4",
      "provenance": []
    },
    "kernelspec": {
      "display_name": "Python 3",
      "name": "python3"
    },
    "language_info": {
      "name": "python"
    }
  },
  "nbformat": 4,
  "nbformat_minor": 0
}